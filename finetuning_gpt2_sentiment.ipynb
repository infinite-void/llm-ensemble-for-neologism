{
 "cells": [
  {
   "cell_type": "code",
   "execution_count": 1,
   "metadata": {},
   "outputs": [],
   "source": [
    "import pandas as pd\n",
    "from datasets import load_dataset, Dataset, DatasetDict\n",
    "\n",
    "reddit_df = pd.read_csv('the-reddit-dataset-dataset-comments.csv')\n",
    "reddit_df = reddit_df.dropna(subset=['body', 'sentiment'])\n",
    "reddit_df['body'] = reddit_df['body'].astype(str)\n",
    "reddit_df['sentiment'] = reddit_df['sentiment'].astype(float)\n",
    "def assign_label(score):\n",
    "    if score < -0.5:\n",
    "        return 0  # Negative\n",
    "    elif -0.5 <= score <= 0.5:\n",
    "        return 1  # Neutral\n",
    "    else:\n",
    "        return 2  # Positive\n",
    "\n",
    "reddit_df['text'] = reddit_df['body']\n",
    "reddit_df['label'] = reddit_df['sentiment'].apply(assign_label)\n",
    "reddit_df = reddit_df[['text', 'label']]\n",
    "reddit_data = Dataset.from_pandas(reddit_df)\n",
    "\n",
    "\n",
    "reddit_dataset = DatasetDict({\n",
    "    'test': reddit_data\n",
    "})\n"
   ]
  },
  {
   "cell_type": "code",
   "execution_count": 2,
   "metadata": {},
   "outputs": [],
   "source": [
    "\n",
    "\n",
    "# Load the sentiment analysis dataset\n",
    "dataset = load_dataset(\"cardiffnlp/tweet_eval\", \"sentiment\")\n",
    "\n"
   ]
  },
  {
   "cell_type": "code",
   "execution_count": 3,
   "metadata": {},
   "outputs": [
    {
     "data": {
      "application/vnd.jupyter.widget-view+json": {
       "model_id": "070b456932f9444ea4578771e3e8db15",
       "version_major": 2,
       "version_minor": 0
      },
      "text/plain": [
       "Map:   0%|          | 0/47370 [00:00<?, ? examples/s]"
      ]
     },
     "metadata": {},
     "output_type": "display_data"
    }
   ],
   "source": [
    "from transformers import AutoTokenizer\n",
    "\n",
    "# Load GPT-2 tokenizer\n",
    "tokenizer = AutoTokenizer.from_pretrained(\"gpt2\")\n",
    "tokenizer.pad_token = tokenizer.eos_token\n",
    "\n",
    "# Tokenize the data\n",
    "def preprocess_function(examples):\n",
    "    tokenized = tokenizer(\n",
    "        examples['text'],\n",
    "        truncation=True,\n",
    "        padding=\"max_length\",\n",
    "        max_length=128\n",
    "    )\n",
    "    tokenized[\"labels\"] = examples[\"label\"]  # Add labels to the tokenized dataset\n",
    "    return tokenized\n",
    "\n",
    "tokenized_datasets = dataset.map(preprocess_function, batched=True)\n",
    "reddit_tokenized_datasets = reddit_dataset.map(preprocess_function, batched=True)"
   ]
  },
  {
   "cell_type": "code",
   "execution_count": 4,
   "metadata": {},
   "outputs": [
    {
     "name": "stderr",
     "output_type": "stream",
     "text": [
      "Some weights of GPT2ForSequenceClassification were not initialized from the model checkpoint at gpt2 and are newly initialized: ['score.weight']\n",
      "You should probably TRAIN this model on a down-stream task to be able to use it for predictions and inference.\n"
     ]
    },
    {
     "data": {
      "text/plain": [
       "GPT2ForSequenceClassification(\n",
       "  (transformer): GPT2Model(\n",
       "    (wte): Embedding(50257, 768)\n",
       "    (wpe): Embedding(1024, 768)\n",
       "    (drop): Dropout(p=0.1, inplace=False)\n",
       "    (h): ModuleList(\n",
       "      (0-11): 12 x GPT2Block(\n",
       "        (ln_1): LayerNorm((768,), eps=1e-05, elementwise_affine=True)\n",
       "        (attn): GPT2SdpaAttention(\n",
       "          (c_attn): Conv1D(nf=2304, nx=768)\n",
       "          (c_proj): Conv1D(nf=768, nx=768)\n",
       "          (attn_dropout): Dropout(p=0.1, inplace=False)\n",
       "          (resid_dropout): Dropout(p=0.1, inplace=False)\n",
       "        )\n",
       "        (ln_2): LayerNorm((768,), eps=1e-05, elementwise_affine=True)\n",
       "        (mlp): GPT2MLP(\n",
       "          (c_fc): Conv1D(nf=3072, nx=768)\n",
       "          (c_proj): Conv1D(nf=768, nx=3072)\n",
       "          (act): NewGELUActivation()\n",
       "          (dropout): Dropout(p=0.1, inplace=False)\n",
       "        )\n",
       "      )\n",
       "    )\n",
       "    (ln_f): LayerNorm((768,), eps=1e-05, elementwise_affine=True)\n",
       "  )\n",
       "  (score): Linear(in_features=768, out_features=3, bias=False)\n",
       ")"
      ]
     },
     "execution_count": 4,
     "metadata": {},
     "output_type": "execute_result"
    }
   ],
   "source": [
    "from transformers import AutoModelForSequenceClassification\n",
    "\n",
    "import torch\n",
    "\n",
    "# Set the device to MPS explicitly\n",
    "device = torch.device(\"mps\") if torch.backends.mps.is_available() else torch.device(\"cpu\")\n",
    "\n",
    "# Load GPT-2 with a classification head\n",
    "model = AutoModelForSequenceClassification.from_pretrained(\"gpt2\", num_labels=3) \n",
    "model.config.pad_token_id = tokenizer.pad_token_id\n",
    "model.to(device)\n"
   ]
  },
  {
   "cell_type": "code",
   "execution_count": 5,
   "metadata": {},
   "outputs": [
    {
     "name": "stderr",
     "output_type": "stream",
     "text": [
      "/Users/srinathsureshkumar/miniconda3/envs/bda/lib/python3.12/site-packages/transformers/training_args.py:1559: FutureWarning: `evaluation_strategy` is deprecated and will be removed in version 4.46 of 🤗 Transformers. Use `eval_strategy` instead\n",
      "  warnings.warn(\n",
      "/var/folders/_v/9p5rkkbj79d0bmthxllw7rqm0000gn/T/ipykernel_60765/332406667.py:15: FutureWarning: `tokenizer` is deprecated and will be removed in version 5.0.0 for `Trainer.__init__`. Use `processing_class` instead.\n",
      "  trainer = Trainer(\n"
     ]
    }
   ],
   "source": [
    "from transformers import Trainer, TrainingArguments\n",
    "\n",
    "training_args = TrainingArguments(\n",
    "    output_dir=\"./results\",\n",
    "    evaluation_strategy=\"epoch\",\n",
    "    learning_rate=2e-5,\n",
    "    per_device_train_batch_size=8,\n",
    "    per_device_eval_batch_size=8,\n",
    "    num_train_epochs=3,\n",
    "    weight_decay=0.01,\n",
    "    logging_dir=\"./logs\",\n",
    "    save_total_limit=2\n",
    ")\n",
    "\n",
    "trainer = Trainer(\n",
    "    model=model,\n",
    "    args=training_args,\n",
    "    train_dataset=tokenized_datasets[\"train\"],\n",
    "    eval_dataset=tokenized_datasets[\"validation\"],\n",
    "    tokenizer=tokenizer\n",
    ")"
   ]
  },
  {
   "cell_type": "code",
   "execution_count": 6,
   "metadata": {},
   "outputs": [
    {
     "data": {
      "application/vnd.jupyter.widget-view+json": {
       "model_id": "3d8e2d918af44b6eade9420caa62c4ac",
       "version_major": 2,
       "version_minor": 0
      },
      "text/plain": [
       "  0%|          | 0/1536 [00:00<?, ?it/s]"
      ]
     },
     "metadata": {},
     "output_type": "display_data"
    },
    {
     "name": "stdout",
     "output_type": "stream",
     "text": [
      "Tweet Accuracy: 0.1940735916639531\n",
      "Tweet Precision: 0.31304360490240596\n",
      "Tweet Recall: 0.3335009371514451\n",
      "Tweet F1 Score: 0.10978885797200327\n",
      "Tweet Accuracy: 0.1940735916639531\n"
     ]
    },
    {
     "data": {
      "image/png": "[encoded data removed]",
      "text/plain": [
       "<Figure size 1000x700 with 2 Axes>"
      ]
     },
     "metadata": {},
     "output_type": "display_data"
    }
   ],
   "source": [
    "predictions = trainer.predict(tokenized_datasets['test'])\n",
    "predicted_labels = torch.argmax(torch.tensor(predictions.predictions), dim=1)\n",
    "\n",
    "from sklearn.metrics import accuracy_score, f1_score, precision_score, recall_score, confusion_matrix\n",
    "from sklearn.metrics import accuracy_score, f1_score, precision_score, recall_score, confusion_matrix\n",
    "import seaborn as sns\n",
    "import matplotlib.pyplot as plt\n",
    "\n",
    "accuracy = accuracy_score(tokenized_datasets['test']['label'], predicted_labels)\n",
    "precision = precision_score(tokenized_datasets['test']['label'], predicted_labels, average='macro')\n",
    "recall = recall_score(tokenized_datasets['test']['label'], predicted_labels, average='macro')\n",
    "f1_score_ = f1_score(tokenized_datasets['test']['label'], predicted_labels, average='macro')\n",
    "\n",
    "print(f'Tweet Accuracy: {accuracy}')\n",
    "print(f'Tweet Precision: {precision}')\n",
    "print(f'Tweet Recall: {recall}')\n",
    "print(f'Tweet F1 Score: {f1_score_}')\n",
    "print(f'Tweet Accuracy: {accuracy}')\n",
    "\n",
    "conf_matrix = confusion_matrix(tokenized_datasets['test']['labels'], predicted_labels)\n",
    "\n",
    "plt.figure(figsize=(10, 7))\n",
    "sns.heatmap(conf_matrix, annot=True, fmt='d', cmap='Reds', xticklabels=['negative', 'neutral', 'positive'], yticklabels=['negative', 'neutral', 'positive'])\n",
    "plt.xlabel('Predicted')\n",
    "plt.ylabel('True')\n",
    "plt.title('Confusion Matrix')\n",
    "plt.show()"
   ]
  },
  {
   "cell_type": "code",
   "execution_count": null,
   "metadata": {},
   "outputs": [
    {
     "data": {
      "application/vnd.jupyter.widget-view+json": {
       "model_id": "0857aa854076468d9aec65a238d4cea1",
       "version_major": 2,
       "version_minor": 0
      },
      "text/plain": [
       "  0%|          | 0/5922 [00:00<?, ?it/s]"
      ]
     },
     "metadata": {},
     "output_type": "display_data"
    },
    {
     "name": "stdout",
     "output_type": "stream",
     "text": [
      "Reddit Accuracy: 0.3657378087397087\n",
      "Reddit Precision: 0.3228848514268619\n",
      "Reddit Recall: 0.3359224962877079\n",
      "Reddit F1 Score: 0.19598182414785123\n",
      "Reddit Accuracy: 0.3657378087397087\n"
     ]
    },
    {
     "ename": "ValueError",
     "evalue": "Found input variables with inconsistent numbers of samples: [12284, 47370]",
     "output_type": "error",
     "traceback": [
      "\u001b[0;31m---------------------------------------------------------------------------\u001b[0m",
      "\u001b[0;31mValueError\u001b[0m                                Traceback (most recent call last)",
      "Cell \u001b[0;32mIn[7], line 19\u001b[0m\n\u001b[1;32m     16\u001b[0m \u001b[38;5;28mprint\u001b[39m(\u001b[38;5;124mf\u001b[39m\u001b[38;5;124m'\u001b[39m\u001b[38;5;124mReddit F1 Score: \u001b[39m\u001b[38;5;132;01m{\u001b[39;00mf1_score_\u001b[38;5;132;01m}\u001b[39;00m\u001b[38;5;124m'\u001b[39m)\n\u001b[1;32m     17\u001b[0m \u001b[38;5;28mprint\u001b[39m(\u001b[38;5;124mf\u001b[39m\u001b[38;5;124m'\u001b[39m\u001b[38;5;124mReddit Accuracy: \u001b[39m\u001b[38;5;132;01m{\u001b[39;00maccuracy\u001b[38;5;132;01m}\u001b[39;00m\u001b[38;5;124m'\u001b[39m)\n\u001b[0;32m---> 19\u001b[0m conf_matrix \u001b[38;5;241m=\u001b[39m \u001b[43mconfusion_matrix\u001b[49m\u001b[43m(\u001b[49m\u001b[43mtokenized_datasets\u001b[49m\u001b[43m[\u001b[49m\u001b[38;5;124;43m'\u001b[39;49m\u001b[38;5;124;43mtest\u001b[39;49m\u001b[38;5;124;43m'\u001b[39;49m\u001b[43m]\u001b[49m\u001b[43m[\u001b[49m\u001b[38;5;124;43m'\u001b[39;49m\u001b[38;5;124;43mlabels\u001b[39;49m\u001b[38;5;124;43m'\u001b[39;49m\u001b[43m]\u001b[49m\u001b[43m,\u001b[49m\u001b[43m \u001b[49m\u001b[43mpredicted_labels\u001b[49m\u001b[43m)\u001b[49m\n\u001b[1;32m     21\u001b[0m plt\u001b[38;5;241m.\u001b[39mfigure(figsize\u001b[38;5;241m=\u001b[39m(\u001b[38;5;241m10\u001b[39m, \u001b[38;5;241m7\u001b[39m))\n\u001b[1;32m     22\u001b[0m sns\u001b[38;5;241m.\u001b[39mheatmap(conf_matrix, annot\u001b[38;5;241m=\u001b[39m\u001b[38;5;28;01mTrue\u001b[39;00m, fmt\u001b[38;5;241m=\u001b[39m\u001b[38;5;124m'\u001b[39m\u001b[38;5;124md\u001b[39m\u001b[38;5;124m'\u001b[39m, cmap\u001b[38;5;241m=\u001b[39m\u001b[38;5;124m'\u001b[39m\u001b[38;5;124mReds\u001b[39m\u001b[38;5;124m'\u001b[39m, xticklabels\u001b[38;5;241m=\u001b[39m[\u001b[38;5;124m'\u001b[39m\u001b[38;5;124mnegative\u001b[39m\u001b[38;5;124m'\u001b[39m, \u001b[38;5;124m'\u001b[39m\u001b[38;5;124mneutral\u001b[39m\u001b[38;5;124m'\u001b[39m, \u001b[38;5;124m'\u001b[39m\u001b[38;5;124mpositive\u001b[39m\u001b[38;5;124m'\u001b[39m], yticklabels\u001b[38;5;241m=\u001b[39m[\u001b[38;5;124m'\u001b[39m\u001b[38;5;124mnegative\u001b[39m\u001b[38;5;124m'\u001b[39m, \u001b[38;5;124m'\u001b[39m\u001b[38;5;124mneutral\u001b[39m\u001b[38;5;124m'\u001b[39m, \u001b[38;5;124m'\u001b[39m\u001b[38;5;124mpositive\u001b[39m\u001b[38;5;124m'\u001b[39m])\n",
      "File \u001b[0;32m~/miniconda3/envs/bda/lib/python3.12/site-packages/sklearn/utils/_param_validation.py:213\u001b[0m, in \u001b[0;36mvalidate_params.<locals>.decorator.<locals>.wrapper\u001b[0;34m(*args, **kwargs)\u001b[0m\n\u001b[1;32m    207\u001b[0m \u001b[38;5;28;01mtry\u001b[39;00m:\n\u001b[1;32m    208\u001b[0m     \u001b[38;5;28;01mwith\u001b[39;00m config_context(\n\u001b[1;32m    209\u001b[0m         skip_parameter_validation\u001b[38;5;241m=\u001b[39m(\n\u001b[1;32m    210\u001b[0m             prefer_skip_nested_validation \u001b[38;5;129;01mor\u001b[39;00m global_skip_validation\n\u001b[1;32m    211\u001b[0m         )\n\u001b[1;32m    212\u001b[0m     ):\n\u001b[0;32m--> 213\u001b[0m         \u001b[38;5;28;01mreturn\u001b[39;00m \u001b[43mfunc\u001b[49m\u001b[43m(\u001b[49m\u001b[38;5;241;43m*\u001b[39;49m\u001b[43margs\u001b[49m\u001b[43m,\u001b[49m\u001b[43m \u001b[49m\u001b[38;5;241;43m*\u001b[39;49m\u001b[38;5;241;43m*\u001b[39;49m\u001b[43mkwargs\u001b[49m\u001b[43m)\u001b[49m\n\u001b[1;32m    214\u001b[0m \u001b[38;5;28;01mexcept\u001b[39;00m InvalidParameterError \u001b[38;5;28;01mas\u001b[39;00m e:\n\u001b[1;32m    215\u001b[0m     \u001b[38;5;66;03m# When the function is just a wrapper around an estimator, we allow\u001b[39;00m\n\u001b[1;32m    216\u001b[0m     \u001b[38;5;66;03m# the function to delegate validation to the estimator, but we replace\u001b[39;00m\n\u001b[1;32m    217\u001b[0m     \u001b[38;5;66;03m# the name of the estimator by the name of the function in the error\u001b[39;00m\n\u001b[1;32m    218\u001b[0m     \u001b[38;5;66;03m# message to avoid confusion.\u001b[39;00m\n\u001b[1;32m    219\u001b[0m     msg \u001b[38;5;241m=\u001b[39m re\u001b[38;5;241m.\u001b[39msub(\n\u001b[1;32m    220\u001b[0m         \u001b[38;5;124mr\u001b[39m\u001b[38;5;124m\"\u001b[39m\u001b[38;5;124mparameter of \u001b[39m\u001b[38;5;124m\\\u001b[39m\u001b[38;5;124mw+ must be\u001b[39m\u001b[38;5;124m\"\u001b[39m,\n\u001b[1;32m    221\u001b[0m         \u001b[38;5;124mf\u001b[39m\u001b[38;5;124m\"\u001b[39m\u001b[38;5;124mparameter of \u001b[39m\u001b[38;5;132;01m{\u001b[39;00mfunc\u001b[38;5;241m.\u001b[39m\u001b[38;5;18m__qualname__\u001b[39m\u001b[38;5;132;01m}\u001b[39;00m\u001b[38;5;124m must be\u001b[39m\u001b[38;5;124m\"\u001b[39m,\n\u001b[1;32m    222\u001b[0m         \u001b[38;5;28mstr\u001b[39m(e),\n\u001b[1;32m    223\u001b[0m     )\n",
      "File \u001b[0;32m~/miniconda3/envs/bda/lib/python3.12/site-packages/sklearn/metrics/_classification.py:342\u001b[0m, in \u001b[0;36mconfusion_matrix\u001b[0;34m(y_true, y_pred, labels, sample_weight, normalize)\u001b[0m\n\u001b[1;32m    247\u001b[0m \u001b[38;5;129m@validate_params\u001b[39m(\n\u001b[1;32m    248\u001b[0m     {\n\u001b[1;32m    249\u001b[0m         \u001b[38;5;124m\"\u001b[39m\u001b[38;5;124my_true\u001b[39m\u001b[38;5;124m\"\u001b[39m: [\u001b[38;5;124m\"\u001b[39m\u001b[38;5;124marray-like\u001b[39m\u001b[38;5;124m\"\u001b[39m],\n\u001b[0;32m   (...)\u001b[0m\n\u001b[1;32m    258\u001b[0m     y_true, y_pred, \u001b[38;5;241m*\u001b[39m, labels\u001b[38;5;241m=\u001b[39m\u001b[38;5;28;01mNone\u001b[39;00m, sample_weight\u001b[38;5;241m=\u001b[39m\u001b[38;5;28;01mNone\u001b[39;00m, normalize\u001b[38;5;241m=\u001b[39m\u001b[38;5;28;01mNone\u001b[39;00m\n\u001b[1;32m    259\u001b[0m ):\n\u001b[1;32m    260\u001b[0m \u001b[38;5;250m    \u001b[39m\u001b[38;5;124;03m\"\"\"Compute confusion matrix to evaluate the accuracy of a classification.\u001b[39;00m\n\u001b[1;32m    261\u001b[0m \n\u001b[1;32m    262\u001b[0m \u001b[38;5;124;03m    By definition a confusion matrix :math:`C` is such that :math:`C_{i, j}`\u001b[39;00m\n\u001b[0;32m   (...)\u001b[0m\n\u001b[1;32m    340\u001b[0m \u001b[38;5;124;03m    (np.int64(0), np.int64(2), np.int64(1), np.int64(1))\u001b[39;00m\n\u001b[1;32m    341\u001b[0m \u001b[38;5;124;03m    \"\"\"\u001b[39;00m\n\u001b[0;32m--> 342\u001b[0m     y_type, y_true, y_pred \u001b[38;5;241m=\u001b[39m \u001b[43m_check_targets\u001b[49m\u001b[43m(\u001b[49m\u001b[43my_true\u001b[49m\u001b[43m,\u001b[49m\u001b[43m \u001b[49m\u001b[43my_pred\u001b[49m\u001b[43m)\u001b[49m\n\u001b[1;32m    343\u001b[0m     \u001b[38;5;28;01mif\u001b[39;00m y_type \u001b[38;5;129;01mnot\u001b[39;00m \u001b[38;5;129;01min\u001b[39;00m (\u001b[38;5;124m\"\u001b[39m\u001b[38;5;124mbinary\u001b[39m\u001b[38;5;124m\"\u001b[39m, \u001b[38;5;124m\"\u001b[39m\u001b[38;5;124mmulticlass\u001b[39m\u001b[38;5;124m\"\u001b[39m):\n\u001b[1;32m    344\u001b[0m         \u001b[38;5;28;01mraise\u001b[39;00m \u001b[38;5;167;01mValueError\u001b[39;00m(\u001b[38;5;124m\"\u001b[39m\u001b[38;5;132;01m%s\u001b[39;00m\u001b[38;5;124m is not supported\u001b[39m\u001b[38;5;124m\"\u001b[39m \u001b[38;5;241m%\u001b[39m y_type)\n",
      "File \u001b[0;32m~/miniconda3/envs/bda/lib/python3.12/site-packages/sklearn/metrics/_classification.py:103\u001b[0m, in \u001b[0;36m_check_targets\u001b[0;34m(y_true, y_pred)\u001b[0m\n\u001b[1;32m     76\u001b[0m \u001b[38;5;250m\u001b[39m\u001b[38;5;124;03m\"\"\"Check that y_true and y_pred belong to the same classification task.\u001b[39;00m\n\u001b[1;32m     77\u001b[0m \n\u001b[1;32m     78\u001b[0m \u001b[38;5;124;03mThis converts multiclass or binary types to a common shape, and raises a\u001b[39;00m\n\u001b[0;32m   (...)\u001b[0m\n\u001b[1;32m    100\u001b[0m \u001b[38;5;124;03my_pred : array or indicator matrix\u001b[39;00m\n\u001b[1;32m    101\u001b[0m \u001b[38;5;124;03m\"\"\"\u001b[39;00m\n\u001b[1;32m    102\u001b[0m xp, _ \u001b[38;5;241m=\u001b[39m get_namespace(y_true, y_pred)\n\u001b[0;32m--> 103\u001b[0m \u001b[43mcheck_consistent_length\u001b[49m\u001b[43m(\u001b[49m\u001b[43my_true\u001b[49m\u001b[43m,\u001b[49m\u001b[43m \u001b[49m\u001b[43my_pred\u001b[49m\u001b[43m)\u001b[49m\n\u001b[1;32m    104\u001b[0m type_true \u001b[38;5;241m=\u001b[39m type_of_target(y_true, input_name\u001b[38;5;241m=\u001b[39m\u001b[38;5;124m\"\u001b[39m\u001b[38;5;124my_true\u001b[39m\u001b[38;5;124m\"\u001b[39m)\n\u001b[1;32m    105\u001b[0m type_pred \u001b[38;5;241m=\u001b[39m type_of_target(y_pred, input_name\u001b[38;5;241m=\u001b[39m\u001b[38;5;124m\"\u001b[39m\u001b[38;5;124my_pred\u001b[39m\u001b[38;5;124m\"\u001b[39m)\n",
      "File \u001b[0;32m~/miniconda3/envs/bda/lib/python3.12/site-packages/sklearn/utils/validation.py:457\u001b[0m, in \u001b[0;36mcheck_consistent_length\u001b[0;34m(*arrays)\u001b[0m\n\u001b[1;32m    455\u001b[0m uniques \u001b[38;5;241m=\u001b[39m np\u001b[38;5;241m.\u001b[39munique(lengths)\n\u001b[1;32m    456\u001b[0m \u001b[38;5;28;01mif\u001b[39;00m \u001b[38;5;28mlen\u001b[39m(uniques) \u001b[38;5;241m>\u001b[39m \u001b[38;5;241m1\u001b[39m:\n\u001b[0;32m--> 457\u001b[0m     \u001b[38;5;28;01mraise\u001b[39;00m \u001b[38;5;167;01mValueError\u001b[39;00m(\n\u001b[1;32m    458\u001b[0m         \u001b[38;5;124m\"\u001b[39m\u001b[38;5;124mFound input variables with inconsistent numbers of samples: \u001b[39m\u001b[38;5;132;01m%r\u001b[39;00m\u001b[38;5;124m\"\u001b[39m\n\u001b[1;32m    459\u001b[0m         \u001b[38;5;241m%\u001b[39m [\u001b[38;5;28mint\u001b[39m(l) \u001b[38;5;28;01mfor\u001b[39;00m l \u001b[38;5;129;01min\u001b[39;00m lengths]\n\u001b[1;32m    460\u001b[0m     )\n",
      "\u001b[0;31mValueError\u001b[0m: Found input variables with inconsistent numbers of samples: [12284, 47370]"
     ]
    }
   ],
   "source": [
    "predictions = trainer.predict(reddit_tokenized_datasets['test'])\n",
    "predicted_labels = torch.argmax(torch.tensor(predictions.predictions), dim=1)\n",
    "\n",
    "from sklearn.metrics import accuracy_score, f1_score, precision_score, recall_score, confusion_matrix\n",
    "import seaborn as sns\n",
    "import matplotlib.pyplot as plt\n",
    "\n",
    "accuracy = accuracy_score(reddit_tokenized_datasets['test']['label'], predicted_labels)\n",
    "precision = precision_score(reddit_tokenized_datasets['test']['label'], predicted_labels, average='macro')\n",
    "recall = recall_score(reddit_tokenized_datasets['test']['label'], predicted_labels, average='macro')\n",
    "f1_score_ = f1_score(reddit_tokenized_datasets['test']['label'], predicted_labels, average='macro')\n",
    "\n",
    "print(f'Reddit Accuracy: {accuracy}')\n",
    "print(f'Reddit Precision: {precision}')\n",
    "print(f'Reddit Recall: {recall}')\n",
    "print(f'Reddit F1 Score: {f1_score_}')\n",
    "print(f'Reddit Accuracy: {accuracy}')\n"
   ]
  },
  {
   "cell_type": "code",
   "execution_count": 8,
   "metadata": {},
   "outputs": [
    {
     "data": {
      "image/png": "[encoded data removed]",
      "text/plain": [
       "<Figure size 1000x700 with 2 Axes>"
      ]
     },
     "metadata": {},
     "output_type": "display_data"
    }
   ],
   "source": [
    "\n",
    "conf_matrix = confusion_matrix(reddit_tokenized_datasets['test']['labels'], predicted_labels)\n",
    "\n",
    "plt.figure(figsize=(10, 7))\n",
    "sns.heatmap(conf_matrix, annot=True, fmt='d', cmap='Reds', xticklabels=['negative', 'neutral', 'positive'], yticklabels=['negative', 'neutral', 'positive'])\n",
    "plt.xlabel('Predicted')\n",
    "plt.ylabel('True')\n",
    "plt.title('Confusion Matrix')\n",
    "plt.show()"
   ]
  },
  {
   "cell_type": "code",
   "execution_count": 9,
   "metadata": {},
   "outputs": [
    {
     "data": {
      "application/vnd.jupyter.widget-view+json": {
       "model_id": "3d16c03907844a5ca4d8142838e4a473",
       "version_major": 2,
       "version_minor": 0
      },
      "text/plain": [
       "  0%|          | 0/17106 [00:00<?, ?it/s]"
      ]
     },
     "metadata": {},
     "output_type": "display_data"
    },
    {
     "name": "stdout",
     "output_type": "stream",
     "text": [
      "{'loss': 0.8863, 'grad_norm': 48.36246109008789, 'learning_rate': 1.9415409797731793e-05, 'epoch': 0.09}\n",
      "{'loss': 0.7262, 'grad_norm': 33.164024353027344, 'learning_rate': 1.883081959546358e-05, 'epoch': 0.18}\n",
      "{'loss': 0.7083, 'grad_norm': 21.586814880371094, 'learning_rate': 1.824622939319537e-05, 'epoch': 0.26}\n",
      "{'loss': 0.6703, 'grad_norm': 17.870548248291016, 'learning_rate': 1.7661639190927163e-05, 'epoch': 0.35}\n",
      "{'loss': 0.6761, 'grad_norm': 27.838346481323242, 'learning_rate': 1.707704898865895e-05, 'epoch': 0.44}\n",
      "{'loss': 0.6758, 'grad_norm': 19.12727928161621, 'learning_rate': 1.649245878639074e-05, 'epoch': 0.53}\n",
      "{'loss': 0.6656, 'grad_norm': 26.03387451171875, 'learning_rate': 1.5907868584122533e-05, 'epoch': 0.61}\n",
      "{'loss': 0.6651, 'grad_norm': 31.679595947265625, 'learning_rate': 1.532327838185432e-05, 'epoch': 0.7}\n",
      "{'loss': 0.642, 'grad_norm': 24.993610382080078, 'learning_rate': 1.4738688179586112e-05, 'epoch': 0.79}\n",
      "{'loss': 0.6297, 'grad_norm': 31.219697952270508, 'learning_rate': 1.4154097977317903e-05, 'epoch': 0.88}\n",
      "{'loss': 0.6413, 'grad_norm': 24.83035659790039, 'learning_rate': 1.356950777504969e-05, 'epoch': 0.96}\n"
     ]
    },
    {
     "data": {
      "application/vnd.jupyter.widget-view+json": {
       "model_id": "ffa0e6d0144a40758968bfd677721fcf",
       "version_major": 2,
       "version_minor": 0
      },
      "text/plain": [
       "  0%|          | 0/250 [00:00<?, ?it/s]"
      ]
     },
     "metadata": {},
     "output_type": "display_data"
    },
    {
     "name": "stdout",
     "output_type": "stream",
     "text": [
      "{'eval_loss': 0.6254441142082214, 'eval_model_preparation_time': 0.0007, 'eval_runtime': 21.0585, 'eval_samples_per_second': 94.973, 'eval_steps_per_second': 11.872, 'epoch': 1.0}\n",
      "{'loss': 0.5872, 'grad_norm': 48.606998443603516, 'learning_rate': 1.2984917572781482e-05, 'epoch': 1.05}\n",
      "{'loss': 0.5681, 'grad_norm': 19.583711624145508, 'learning_rate': 1.2400327370513273e-05, 'epoch': 1.14}\n",
      "{'loss': 0.5815, 'grad_norm': 15.777647972106934, 'learning_rate': 1.181573716824506e-05, 'epoch': 1.23}\n",
      "{'loss': 0.557, 'grad_norm': 21.326623916625977, 'learning_rate': 1.1231146965976852e-05, 'epoch': 1.32}\n",
      "{'loss': 0.57, 'grad_norm': 6.452838897705078, 'learning_rate': 1.0646556763708643e-05, 'epoch': 1.4}\n",
      "{'loss': 0.5408, 'grad_norm': 20.262462615966797, 'learning_rate': 1.006196656144043e-05, 'epoch': 1.49}\n",
      "{'loss': 0.5427, 'grad_norm': 7.982975006103516, 'learning_rate': 9.477376359172222e-06, 'epoch': 1.58}\n",
      "{'loss': 0.5443, 'grad_norm': 23.05189323425293, 'learning_rate': 8.892786156904011e-06, 'epoch': 1.67}\n",
      "{'loss': 0.5431, 'grad_norm': 53.89788818359375, 'learning_rate': 8.308195954635802e-06, 'epoch': 1.75}\n",
      "{'loss': 0.5447, 'grad_norm': 33.00722122192383, 'learning_rate': 7.723605752367592e-06, 'epoch': 1.84}\n",
      "{'loss': 0.5631, 'grad_norm': 50.9138069152832, 'learning_rate': 7.139015550099381e-06, 'epoch': 1.93}\n"
     ]
    },
    {
     "data": {
      "application/vnd.jupyter.widget-view+json": {
       "model_id": "763335fe90aa44649884e76cef78d09d",
       "version_major": 2,
       "version_minor": 0
      },
      "text/plain": [
       "  0%|          | 0/250 [00:00<?, ?it/s]"
      ]
     },
     "metadata": {},
     "output_type": "display_data"
    },
    {
     "name": "stdout",
     "output_type": "stream",
     "text": [
      "{'eval_loss': 0.6492927074432373, 'eval_model_preparation_time': 0.0007, 'eval_runtime': 20.9441, 'eval_samples_per_second': 95.492, 'eval_steps_per_second': 11.937, 'epoch': 2.0}\n",
      "{'loss': 0.5482, 'grad_norm': 40.384620666503906, 'learning_rate': 6.554425347831171e-06, 'epoch': 2.02}\n",
      "{'loss': 0.4776, 'grad_norm': 23.547222137451172, 'learning_rate': 5.969835145562961e-06, 'epoch': 2.1}\n",
      "{'loss': 0.4698, 'grad_norm': 9.082292556762695, 'learning_rate': 5.38524494329475e-06, 'epoch': 2.19}\n",
      "{'loss': 0.4795, 'grad_norm': 32.72574996948242, 'learning_rate': 4.800654741026541e-06, 'epoch': 2.28}\n",
      "{'loss': 0.4759, 'grad_norm': 13.713750839233398, 'learning_rate': 4.216064538758331e-06, 'epoch': 2.37}\n",
      "{'loss': 0.4753, 'grad_norm': 26.58028221130371, 'learning_rate': 3.6314743364901207e-06, 'epoch': 2.46}\n",
      "{'loss': 0.4597, 'grad_norm': 7.205330848693848, 'learning_rate': 3.0468841342219106e-06, 'epoch': 2.54}\n",
      "{'loss': 0.4505, 'grad_norm': 30.065664291381836, 'learning_rate': 2.4622939319537005e-06, 'epoch': 2.63}\n",
      "{'loss': 0.4934, 'grad_norm': 21.550294876098633, 'learning_rate': 1.8777037296854905e-06, 'epoch': 2.72}\n",
      "{'loss': 0.4725, 'grad_norm': 23.259702682495117, 'learning_rate': 1.2931135274172806e-06, 'epoch': 2.81}\n",
      "{'loss': 0.4739, 'grad_norm': 45.94680404663086, 'learning_rate': 7.085233251490706e-07, 'epoch': 2.89}\n",
      "{'loss': 0.4683, 'grad_norm': 14.792197227478027, 'learning_rate': 1.2393312288086053e-07, 'epoch': 2.98}\n"
     ]
    },
    {
     "data": {
      "application/vnd.jupyter.widget-view+json": {
       "model_id": "bcd60d3537f64c84851cf96bfde4d25d",
       "version_major": 2,
       "version_minor": 0
      },
      "text/plain": [
       "  0%|          | 0/250 [00:00<?, ?it/s]"
      ]
     },
     "metadata": {},
     "output_type": "display_data"
    },
    {
     "name": "stdout",
     "output_type": "stream",
     "text": [
      "{'eval_loss': 0.6810768842697144, 'eval_model_preparation_time': 0.0007, 'eval_runtime': 20.9999, 'eval_samples_per_second': 95.239, 'eval_steps_per_second': 11.905, 'epoch': 3.0}\n",
      "{'train_runtime': 5830.6549, 'train_samples_per_second': 23.47, 'train_steps_per_second': 2.934, 'train_loss': 0.5720860064134227, 'epoch': 3.0}\n"
     ]
    },
    {
     "data": {
      "text/plain": [
       "TrainOutput(global_step=17106, training_loss=0.5720860064134227, metrics={'train_runtime': 5830.6549, 'train_samples_per_second': 23.47, 'train_steps_per_second': 2.934, 'total_flos': 8939369173155840.0, 'train_loss': 0.5720860064134227, 'epoch': 3.0})"
      ]
     },
     "execution_count": 9,
     "metadata": {},
     "output_type": "execute_result"
    }
   ],
   "source": [
    "trainer.train()"
   ]
  },
  {
   "cell_type": "code",
   "execution_count": 10,
   "metadata": {},
   "outputs": [
    {
     "data": {
      "application/vnd.jupyter.widget-view+json": {
       "model_id": "47dffa00e9f94b1a8db0e58ab83b3e9c",
       "version_major": 2,
       "version_minor": 0
      },
      "text/plain": [
       "  0%|          | 0/1536 [00:00<?, ?it/s]"
      ]
     },
     "metadata": {},
     "output_type": "display_data"
    },
    {
     "name": "stdout",
     "output_type": "stream",
     "text": [
      "{'eval_loss': 0.7522904276847839, 'eval_model_preparation_time': 0.0007, 'eval_runtime': 131.6897, 'eval_samples_per_second': 93.28, 'eval_steps_per_second': 11.664, 'epoch': 3.0}\n"
     ]
    },
    {
     "data": {
      "text/plain": [
       "('./sentiment-gpt2/tokenizer_config.json',\n",
       " './sentiment-gpt2/special_tokens_map.json',\n",
       " './sentiment-gpt2/vocab.json',\n",
       " './sentiment-gpt2/merges.txt',\n",
       " './sentiment-gpt2/added_tokens.json',\n",
       " './sentiment-gpt2/tokenizer.json')"
      ]
     },
     "execution_count": 10,
     "metadata": {},
     "output_type": "execute_result"
    }
   ],
   "source": [
    "# Evaluate the model\n",
    "results = trainer.evaluate(tokenized_datasets[\"test\"])\n",
    "print(results)\n",
    "\n",
    "# Save the fine-tuned model\n",
    "model.save_pretrained(\"./sentiment-gpt2\")\n",
    "tokenizer.save_pretrained(\"./sentiment-gpt2\")"
   ]
  },
  {
   "cell_type": "code",
   "execution_count": 11,
   "metadata": {},
   "outputs": [
    {
     "data": {
      "application/vnd.jupyter.widget-view+json": {
       "model_id": "e9cb88e5a58c4962b3145e8b15d02f2a",
       "version_major": 2,
       "version_minor": 0
      },
      "text/plain": [
       "  0%|          | 0/1536 [00:00<?, ?it/s]"
      ]
     },
     "metadata": {},
     "output_type": "display_data"
    },
    {
     "name": "stdout",
     "output_type": "stream",
     "text": [
      "Tweet Accuracy: 0.6936665581243895\n",
      "Tweet Precision: 0.682377636806299\n",
      "Tweet Recall: 0.7151327482942907\n",
      "Tweet F1 Score: 0.6935738206376799\n",
      "Tweet Accuracy: 0.6936665581243895\n"
     ]
    },
    {
     "data": {
      "image/png": "[encoded data removed]",
      "text/plain": [
       "<Figure size 1000x700 with 2 Axes>"
      ]
     },
     "metadata": {},
     "output_type": "display_data"
    }
   ],
   "source": [
    "predictions = trainer.predict(tokenized_datasets['test'])\n",
    "predicted_labels = torch.argmax(torch.tensor(predictions.predictions), dim=1)\n",
    "\n",
    "accuracy = accuracy_score(tokenized_datasets['test']['label'], predicted_labels)\n",
    "precision = precision_score(tokenized_datasets['test']['label'], predicted_labels, average='macro')\n",
    "recall = recall_score(tokenized_datasets['test']['label'], predicted_labels, average='macro')\n",
    "f1_score_ = f1_score(tokenized_datasets['test']['label'], predicted_labels, average='macro')\n",
    "\n",
    "print(f'Tweet Accuracy: {accuracy}')\n",
    "print(f'Tweet Precision: {precision}')\n",
    "print(f'Tweet Recall: {recall}')\n",
    "print(f'Tweet F1 Score: {f1_score_}')\n",
    "print(f'Tweet Accuracy: {accuracy}')\n",
    "\n",
    "conf_matrix = confusion_matrix(tokenized_datasets['test']['labels'], predicted_labels)\n",
    "\n",
    "plt.figure(figsize=(10, 7))\n",
    "sns.heatmap(conf_matrix, annot=True, fmt='d', cmap='Reds', xticklabels=['negative', 'neutral', 'positive'], yticklabels=['negative', 'neutral', 'positive'])\n",
    "plt.xlabel('Predicted')\n",
    "plt.ylabel('True')\n",
    "plt.title('Confusion Matrix')\n",
    "plt.show()"
   ]
  },
  {
   "cell_type": "code",
   "execution_count": null,
   "metadata": {},
   "outputs": [],
   "source": []
  },
  {
   "cell_type": "code",
   "execution_count": null,
   "metadata": {},
   "outputs": [],
   "source": [
    "dataset = load_dataset(\"cardiffnlp/super_tweeteval\", \"tweet_sentiment\")\n",
    "label_mapping = {0: 0, 1: 0, 2: 1, 3: 2, 4: 2}  \n",
    "\n",
    "def replace_labels(examples, label_mapping):\n",
    "    examples['label'] = [label_mapping[label] for label in examples['gold_label']]\n",
    "    return examples\n",
    "\n",
    "# Replace labels in the dataset using the mapping\n",
    "dataset = dataset.map(lambda examples: replace_labels(examples, label_mapping), batched=True)\n"
   ]
  },
  {
   "cell_type": "code",
   "execution_count": null,
   "metadata": {},
   "outputs": [
    {
     "data": {
      "application/vnd.jupyter.widget-view+json": {
       "model_id": "2ffe9ca0cdf447069dd4aee78e082945",
       "version_major": 2,
       "version_minor": 0
      },
      "text/plain": [
       "Map:   0%|          | 0/26632 [00:00<?, ? examples/s]"
      ]
     },
     "metadata": {},
     "output_type": "display_data"
    },
    {
     "data": {
      "application/vnd.jupyter.widget-view+json": {
       "model_id": "2b5f2678ee6346ee9904c3c91f4d52a0",
       "version_major": 2,
       "version_minor": 0
      },
      "text/plain": [
       "Map:   0%|          | 0/12379 [00:00<?, ? examples/s]"
      ]
     },
     "metadata": {},
     "output_type": "display_data"
    },
    {
     "data": {
      "application/vnd.jupyter.widget-view+json": {
       "model_id": "1d5b160080e34d95b07a19e3edf74e50",
       "version_major": 2,
       "version_minor": 0
      },
      "text/plain": [
       "Map:   0%|          | 0/4000 [00:00<?, ? examples/s]"
      ]
     },
     "metadata": {},
     "output_type": "display_data"
    },
    {
     "data": {
      "application/vnd.jupyter.widget-view+json": {
       "model_id": "ceb13c04b49e41148849cd5576938920",
       "version_major": 2,
       "version_minor": 0
      },
      "text/plain": [
       "Map:   0%|          | 0/47370 [00:00<?, ? examples/s]"
      ]
     },
     "metadata": {},
     "output_type": "display_data"
    }
   ],
   "source": [
    "\n",
    "tokenizer = AutoTokenizer.from_pretrained(\"./sentiment-gpt2\")\n",
    "tokenizer.pad_token = tokenizer.eos_token\n",
    "\n",
    "\n",
    "def preprocess_function(examples):\n",
    "    tokenized = tokenizer(\n",
    "        examples['text'],\n",
    "        truncation=True,\n",
    "        padding=\"max_length\",\n",
    "        max_length=128\n",
    "    )\n",
    "    tokenized[\"labels\"] = examples[\"label\"]  \n",
    "    return tokenized\n",
    "\n",
    "tokenized_datasets = dataset.map(preprocess_function, batched=True)\n",
    "reddit_tokenized_datasets = reddit_dataset.map(preprocess_function, batched=True)"
   ]
  },
  {
   "cell_type": "code",
   "execution_count": null,
   "metadata": {},
   "outputs": [
    {
     "data": {
      "text/plain": [
       "GPT2ForSequenceClassification(\n",
       "  (transformer): GPT2Model(\n",
       "    (wte): Embedding(50257, 768)\n",
       "    (wpe): Embedding(1024, 768)\n",
       "    (drop): Dropout(p=0.1, inplace=False)\n",
       "    (h): ModuleList(\n",
       "      (0-11): 12 x GPT2Block(\n",
       "        (ln_1): LayerNorm((768,), eps=1e-05, elementwise_affine=True)\n",
       "        (attn): GPT2SdpaAttention(\n",
       "          (c_attn): Conv1D(nf=2304, nx=768)\n",
       "          (c_proj): Conv1D(nf=768, nx=768)\n",
       "          (attn_dropout): Dropout(p=0.1, inplace=False)\n",
       "          (resid_dropout): Dropout(p=0.1, inplace=False)\n",
       "        )\n",
       "        (ln_2): LayerNorm((768,), eps=1e-05, elementwise_affine=True)\n",
       "        (mlp): GPT2MLP(\n",
       "          (c_fc): Conv1D(nf=3072, nx=768)\n",
       "          (c_proj): Conv1D(nf=768, nx=3072)\n",
       "          (act): NewGELUActivation()\n",
       "          (dropout): Dropout(p=0.1, inplace=False)\n",
       "        )\n",
       "      )\n",
       "    )\n",
       "    (ln_f): LayerNorm((768,), eps=1e-05, elementwise_affine=True)\n",
       "  )\n",
       "  (score): Linear(in_features=768, out_features=3, bias=False)\n",
       ")"
      ]
     },
     "execution_count": 15,
     "metadata": {},
     "output_type": "execute_result"
    }
   ],
   "source": [
    "model = AutoModelForSequenceClassification.from_pretrained(\"./sentiment-gpt2\", num_labels=3) \n",
    "model.config.pad_token_id = tokenizer.pad_token_id\n",
    "model.to(device)"
   ]
  },
  {
   "cell_type": "code",
   "execution_count": null,
   "metadata": {},
   "outputs": [
    {
     "name": "stderr",
     "output_type": "stream",
     "text": [
      "/Users/srinathsureshkumar/miniconda3/envs/bda/lib/python3.12/site-packages/transformers/training_args.py:1559: FutureWarning: `evaluation_strategy` is deprecated and will be removed in version 4.46 of 🤗 Transformers. Use `eval_strategy` instead\n",
      "  warnings.warn(\n",
      "/var/folders/_v/9p5rkkbj79d0bmthxllw7rqm0000gn/T/ipykernel_38104/2710583026.py:13: FutureWarning: `tokenizer` is deprecated and will be removed in version 5.0.0 for `Trainer.__init__`. Use `processing_class` instead.\n",
      "  trainer = Trainer(\n"
     ]
    }
   ],
   "source": [
    "\n",
    "training_args = TrainingArguments(\n",
    "    output_dir=\"./results\",\n",
    "    evaluation_strategy=\"epoch\",\n",
    "    learning_rate=2e-5,\n",
    "    per_device_train_batch_size=8,\n",
    "    per_device_eval_batch_size=8,\n",
    "    num_train_epochs=3,\n",
    "    weight_decay=0.01,\n",
    "    logging_dir=\"./logs\",\n",
    "    save_total_limit=2\n",
    ")\n",
    "\n",
    "trainer = Trainer(\n",
    "    model=model,\n",
    "    args=training_args,\n",
    "    train_dataset=tokenized_datasets[\"train\"],\n",
    "    eval_dataset=tokenized_datasets[\"validation\"],\n",
    "    tokenizer=tokenizer\n",
    ")"
   ]
  },
  {
   "cell_type": "code",
   "execution_count": null,
   "metadata": {},
   "outputs": [
    {
     "data": {
      "application/vnd.jupyter.widget-view+json": {
       "model_id": "4c739e3d83bb45bd88dc4f639d319c10",
       "version_major": 2,
       "version_minor": 0
      },
      "text/plain": [
       "  0%|          | 0/9987 [00:00<?, ?it/s]"
      ]
     },
     "metadata": {},
     "output_type": "display_data"
    },
    {
     "name": "stdout",
     "output_type": "stream",
     "text": [
      "{'loss': 0.6459, 'grad_norm': 11.397957801818848, 'learning_rate': 1.899869830780014e-05, 'epoch': 0.15}\n",
      "{'loss': 0.6218, 'grad_norm': 13.151814460754395, 'learning_rate': 1.7997396615600284e-05, 'epoch': 0.3}\n",
      "{'loss': 0.615, 'grad_norm': 41.42858123779297, 'learning_rate': 1.699609492340042e-05, 'epoch': 0.45}\n",
      "{'loss': 0.6472, 'grad_norm': 13.1765775680542, 'learning_rate': 1.5994793231200562e-05, 'epoch': 0.6}\n",
      "{'loss': 0.6324, 'grad_norm': 11.223030090332031, 'learning_rate': 1.4993491539000702e-05, 'epoch': 0.75}\n",
      "{'loss': 0.604, 'grad_norm': 64.63749694824219, 'learning_rate': 1.3992189846800843e-05, 'epoch': 0.9}\n"
     ]
    },
    {
     "data": {
      "application/vnd.jupyter.widget-view+json": {
       "model_id": "d01ec8cdf6694146be988f7d7501a9c5",
       "version_major": 2,
       "version_minor": 0
      },
      "text/plain": [
       "  0%|          | 0/500 [00:00<?, ?it/s]"
      ]
     },
     "metadata": {},
     "output_type": "display_data"
    },
    {
     "name": "stdout",
     "output_type": "stream",
     "text": [
      "{'eval_loss': 0.7528280019760132, 'eval_runtime': 42.8303, 'eval_samples_per_second': 93.392, 'eval_steps_per_second': 11.674, 'epoch': 1.0}\n",
      "{'loss': 0.5947, 'grad_norm': 38.766754150390625, 'learning_rate': 1.2990888154600982e-05, 'epoch': 1.05}\n",
      "{'loss': 0.5382, 'grad_norm': 32.53646469116211, 'learning_rate': 1.1989586462401122e-05, 'epoch': 1.2}\n",
      "{'loss': 0.5205, 'grad_norm': 9.45086669921875, 'learning_rate': 1.0988284770201263e-05, 'epoch': 1.35}\n",
      "{'loss': 0.5201, 'grad_norm': 38.187347412109375, 'learning_rate': 9.986983078001402e-06, 'epoch': 1.5}\n",
      "{'loss': 0.5201, 'grad_norm': 54.03757858276367, 'learning_rate': 8.985681385801543e-06, 'epoch': 1.65}\n",
      "{'loss': 0.5239, 'grad_norm': 14.977100372314453, 'learning_rate': 7.984379693601682e-06, 'epoch': 1.8}\n",
      "{'loss': 0.5085, 'grad_norm': 7.906442165374756, 'learning_rate': 6.9830780014018225e-06, 'epoch': 1.95}\n"
     ]
    },
    {
     "data": {
      "application/vnd.jupyter.widget-view+json": {
       "model_id": "0fb105b251a14ea48371f5000c142470",
       "version_major": 2,
       "version_minor": 0
      },
      "text/plain": [
       "  0%|          | 0/500 [00:00<?, ?it/s]"
      ]
     },
     "metadata": {},
     "output_type": "display_data"
    },
    {
     "name": "stdout",
     "output_type": "stream",
     "text": [
      "{'eval_loss': 0.8985701203346252, 'eval_runtime': 42.446, 'eval_samples_per_second': 94.237, 'eval_steps_per_second': 11.78, 'epoch': 2.0}\n",
      "{'loss': 0.4461, 'grad_norm': 7.235117435455322, 'learning_rate': 5.9817763092019636e-06, 'epoch': 2.1}\n",
      "{'loss': 0.4419, 'grad_norm': 13.705244064331055, 'learning_rate': 4.980474617002103e-06, 'epoch': 2.25}\n",
      "{'loss': 0.434, 'grad_norm': 11.022455215454102, 'learning_rate': 3.979172924802243e-06, 'epoch': 2.4}\n",
      "{'loss': 0.4322, 'grad_norm': 7.844876289367676, 'learning_rate': 2.9778712326023833e-06, 'epoch': 2.55}\n",
      "{'loss': 0.4293, 'grad_norm': 9.28359603881836, 'learning_rate': 1.9765695404025235e-06, 'epoch': 2.7}\n",
      "{'loss': 0.4502, 'grad_norm': 25.303466796875, 'learning_rate': 9.752678482026635e-07, 'epoch': 2.85}\n"
     ]
    },
    {
     "data": {
      "application/vnd.jupyter.widget-view+json": {
       "model_id": "44d62455734240dcb462547c1328f606",
       "version_major": 2,
       "version_minor": 0
      },
      "text/plain": [
       "  0%|          | 0/500 [00:00<?, ?it/s]"
      ]
     },
     "metadata": {},
     "output_type": "display_data"
    },
    {
     "name": "stdout",
     "output_type": "stream",
     "text": [
      "{'eval_loss': 0.9687845706939697, 'eval_runtime': 41.8794, 'eval_samples_per_second': 95.512, 'eval_steps_per_second': 11.939, 'epoch': 3.0}\n",
      "{'train_runtime': 3544.6891, 'train_samples_per_second': 22.54, 'train_steps_per_second': 2.817, 'train_loss': 0.528555385245448, 'epoch': 3.0}\n"
     ]
    },
    {
     "data": {
      "text/plain": [
       "TrainOutput(global_step=9987, training_loss=0.528555385245448, metrics={'train_runtime': 3544.6891, 'train_samples_per_second': 22.54, 'train_steps_per_second': 2.817, 'total_flos': 5219188420902912.0, 'train_loss': 0.528555385245448, 'epoch': 3.0})"
      ]
     },
     "execution_count": 17,
     "metadata": {},
     "output_type": "execute_result"
    }
   ],
   "source": [
    "trainer.train()"
   ]
  },
  {
   "cell_type": "code",
   "execution_count": null,
   "metadata": {},
   "outputs": [
    {
     "data": {
      "application/vnd.jupyter.widget-view+json": {
       "model_id": "84dea19bd31f46e9a05e0cbb98e30c83",
       "version_major": 2,
       "version_minor": 0
      },
      "text/plain": [
       "  0%|          | 0/1548 [00:00<?, ?it/s]"
      ]
     },
     "metadata": {},
     "output_type": "display_data"
    },
    {
     "name": "stdout",
     "output_type": "stream",
     "text": [
      "{'eval_loss': 0.9531672596931458, 'eval_runtime': 128.0451, 'eval_samples_per_second': 96.677, 'eval_steps_per_second': 12.089, 'epoch': 3.0}\n"
     ]
    },
    {
     "data": {
      "text/plain": [
       "('./sentiment-gpt2-2/tokenizer_config.json',\n",
       " './sentiment-gpt2-2/special_tokens_map.json',\n",
       " './sentiment-gpt2-2/vocab.json',\n",
       " './sentiment-gpt2-2/merges.txt',\n",
       " './sentiment-gpt2-2/added_tokens.json',\n",
       " './sentiment-gpt2-2/tokenizer.json')"
      ]
     },
     "execution_count": 18,
     "metadata": {},
     "output_type": "execute_result"
    }
   ],
   "source": [
    "# Evaluate the model\n",
    "results = trainer.evaluate(tokenized_datasets[\"test\"])\n",
    "print(results)\n",
    "\n",
    "# Save the fine-tuned model\n",
    "model.save_pretrained(\"./sentiment-gpt2-2\")\n",
    "tokenizer.save_pretrained(\"./sentiment-gpt2-2\")"
   ]
  },
  {
   "cell_type": "code",
   "execution_count": null,
   "metadata": {},
   "outputs": [
    {
     "data": {
      "application/vnd.jupyter.widget-view+json": {
       "model_id": "e27435fa8d414cd780b466b55335ac3e",
       "version_major": 2,
       "version_minor": 0
      },
      "text/plain": [
       "  0%|          | 0/1548 [00:00<?, ?it/s]"
      ]
     },
     "metadata": {},
     "output_type": "display_data"
    },
    {
     "name": "stdout",
     "output_type": "stream",
     "text": [
      "Tweet Accuracy: 0.642297439211568\n"
     ]
    }
   ],
   "source": [
    "predictions = trainer.predict(tokenized_datasets['test'])\n",
    "predicted_labels = torch.argmax(torch.tensor(predictions.predictions), dim=1)\n",
    "\n",
    "accuracy = accuracy_score(tokenized_datasets['test']['label'], predicted_labels)\n",
    "precision = precision_score(tokenized_datasets['test']['label'], predicted_labels, average='macro')\n",
    "recall = recall_score(tokenized_datasets['test']['label'], predicted_labels, average='macro')\n",
    "f1_score_ = f1_score(tokenized_datasets['test']['label'], predicted_labels, average='macro')\n",
    "\n",
    "print(f'Tweet Accuracy: {accuracy}')\n",
    "print(f'Tweet Precision: {precision}')\n",
    "print(f'Tweet Recall: {recall}')\n",
    "print(f'Tweet F1 Score: {f1_score_}')\n",
    "print(f'Tweet Accuracy: {accuracy}')\n",
    "\n",
    "conf_matrix = confusion_matrix(tokenized_datasets['test']['labels'], predicted_labels)\n",
    "\n",
    "plt.figure(figsize=(10, 7))\n",
    "sns.heatmap(conf_matrix, annot=True, fmt='d', cmap='Reds', xticklabels=['negative', 'neutral', 'positive'], yticklabels=['negative', 'neutral', 'positive'])\n",
    "plt.xlabel('Predicted')\n",
    "plt.ylabel('True')\n",
    "plt.title('Confusion Matrix')\n",
    "plt.show()"
   ]
  },
  {
   "cell_type": "code",
   "execution_count": null,
   "metadata": {},
   "outputs": [],
   "source": [
    "predictions = trainer.predict(reddit_tokenized_datasets['test'])\n",
    "predicted_labels = torch.argmax(torch.tensor(predictions.predictions), dim=1)\n",
    "\n",
    "accuracy = accuracy_score(reddit_tokenized_datasets['test']['label'], predicted_labels)\n",
    "precision = precision_score(reddit_tokenized_datasets['test']['label'], predicted_labels, average='macro')\n",
    "recall = recall_score(reddit_tokenized_datasets['test']['label'], predicted_labels, average='macro')\n",
    "f1_score_ = f1_score(reddit_tokenized_datasets['test']['label'], predicted_labels, average='macro')\n",
    "\n",
    "print(f'Reddit Accuracy: {accuracy}')\n",
    "print(f'Reddit Precision: {precision}')\n",
    "print(f'Reddit Recall: {recall}')\n",
    "print(f'Reddit F1 Score: {f1_score_}')\n",
    "print(f'Reddit Accuracy: {accuracy}')\n",
    "\n",
    "conf_matrix = confusion_matrix(tokenized_datasets['test']['labels'], predicted_labels)\n",
    "\n",
    "plt.figure(figsize=(10, 7))\n",
    "sns.heatmap(conf_matrix, annot=True, fmt='d', cmap='Reds', xticklabels=['negative', 'neutral', 'positive'], yticklabels=['negative', 'neutral', 'positive'])\n",
    "plt.xlabel('Predicted')\n",
    "plt.ylabel('True')\n",
    "plt.title('Confusion Matrix')\n",
    "plt.show()"
   ]
  },
  {
   "cell_type": "code",
   "execution_count": 12,
   "metadata": {},
   "outputs": [
    {
     "data": {
      "application/vnd.jupyter.widget-view+json": {
       "model_id": "9f1718d4a1974c20ac74594016d954f6",
       "version_major": 2,
       "version_minor": 0
      },
      "text/plain": [
       "Map:   0%|          | 0/5246 [00:00<?, ? examples/s]"
      ]
     },
     "metadata": {},
     "output_type": "display_data"
    },
    {
     "data": {
      "application/vnd.jupyter.widget-view+json": {
       "model_id": "c2851fb0090b4deb94d91f027510c58c",
       "version_major": 2,
       "version_minor": 0
      },
      "text/plain": [
       "Map:   0%|          | 0/1749 [00:00<?, ? examples/s]"
      ]
     },
     "metadata": {},
     "output_type": "display_data"
    },
    {
     "data": {
      "application/vnd.jupyter.widget-view+json": {
       "model_id": "906ce5acffdd4b709de1d57ecf06efcb",
       "version_major": 2,
       "version_minor": 0
      },
      "text/plain": [
       "Map:   0%|          | 0/1749 [00:00<?, ? examples/s]"
      ]
     },
     "metadata": {},
     "output_type": "display_data"
    },
    {
     "data": {
      "application/vnd.jupyter.widget-view+json": {
       "model_id": "664d365a136a485690602f776eea65f2",
       "version_major": 2,
       "version_minor": 0
      },
      "text/plain": [
       "  0%|          | 0/219 [00:00<?, ?it/s]"
      ]
     },
     "metadata": {},
     "output_type": "display_data"
    },
    {
     "name": "stdout",
     "output_type": "stream",
     "text": [
      "Tweet Accuracy: 0.7547169811320755\n",
      "Tweet Precision: 0.7523798530846794\n",
      "Tweet Recall: 0.7529197854828071\n",
      "Tweet F1 Score: 0.7477111117643792\n",
      "Tweet Accuracy: 0.7547169811320755\n"
     ]
    },
    {
     "data": {
      "image/png": "[encoded data removed]",
      "text/plain": [
       "<Figure size 1000x700 with 2 Axes>"
      ]
     },
     "metadata": {},
     "output_type": "display_data"
    }
   ],
   "source": [
    "\n",
    "from datasets import load_dataset, Dataset, DatasetDict\n",
    "from sklearn.model_selection import train_test_split\n",
    "import pandas as pd\n",
    "\n",
    "# Load the CSV file into a pandas DataFrame\n",
    "df = pd.read_csv('all_sampled_twitter.csv')\n",
    "\n",
    "# Split the DataFrame into train, validation, and test sets\n",
    "train_df, temp_df = train_test_split(df, test_size=0.4, random_state=42)\n",
    "val_df, test_df = train_test_split(temp_df, test_size=0.5, random_state=42)\n",
    "\n",
    "\n",
    "train_dataset = Dataset.from_pandas(train_df)\n",
    "val_dataset = Dataset.from_pandas(val_df)\n",
    "test_dataset = Dataset.from_pandas(test_df)\n",
    "\n",
    "# Create a DatasetDict\n",
    "dataset = DatasetDict({\n",
    "    'train': train_dataset,\n",
    "    'validation': val_dataset,\n",
    "    'test': test_dataset\n",
    "})\n",
    "tokenized_datasets = dataset.map(preprocess_function, batched=True)\n",
    "predictions = trainer.predict(tokenized_datasets['test'])\n",
    "predicted_labels = torch.argmax(torch.tensor(predictions.predictions), dim=1)\n",
    "\n",
    "accuracy = accuracy_score(tokenized_datasets['test']['label'], predicted_labels)\n",
    "precision = precision_score(tokenized_datasets['test']['label'], predicted_labels, average='macro')\n",
    "recall = recall_score(tokenized_datasets['test']['label'], predicted_labels, average='macro')\n",
    "f1_score_ = f1_score(tokenized_datasets['test']['label'], predicted_labels, average='macro')\n",
    "\n",
    "print(f'Tweet Accuracy: {accuracy}')\n",
    "print(f'Tweet Precision: {precision}')\n",
    "print(f'Tweet Recall: {recall}')\n",
    "print(f'Tweet F1 Score: {f1_score_}')\n",
    "print(f'Tweet Accuracy: {accuracy}')\n",
    "\n",
    "conf_matrix = confusion_matrix(tokenized_datasets['test']['labels'], predicted_labels)\n",
    "\n",
    "plt.figure(figsize=(10, 7))\n",
    "sns.heatmap(conf_matrix, annot=True, fmt='d', cmap='Blues', xticklabels=['negative', 'neutral', 'positive'], yticklabels=['negative', 'neutral', 'positive'])\n",
    "plt.xlabel('Predicted')\n",
    "plt.ylabel('True')\n",
    "plt.title('Confusion Matrix')\n",
    "plt.show()"
   ]
  },
  {
   "cell_type": "code",
   "execution_count": null,
   "metadata": {},
   "outputs": [],
   "source": []
  }
 ],
 "metadata": {
  "kernelspec": {
   "display_name": "bda",
   "language": "python",
   "name": "python3"
  },
  "language_info": {
   "codemirror_mode": {
    "name": "ipython",
    "version": 3
   },
   "file_extension": ".py",
   "mimetype": "text/x-python",
   "name": "python",
   "nbconvert_exporter": "python",
   "pygments_lexer": "ipython3",
   "version": "3.12.7"
  }
 },
 "nbformat": 4,
 "nbformat_minor": 2
}
