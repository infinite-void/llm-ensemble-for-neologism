{
 "cells": [
  {
   "cell_type": "code",
   "execution_count": 1,
   "metadata": {},
   "outputs": [],
   "source": [
    "import pandas as pd\n",
    "from datasets import load_dataset, Dataset, DatasetDict\n",
    "\n",
    "reddit_df = pd.read_csv('the-reddit-dataset-dataset-comments.csv')\n",
    "reddit_df = reddit_df.dropna(subset=['body', 'sentiment'])\n",
    "reddit_df['body'] = reddit_df['body'].astype(str)\n",
    "reddit_df['sentiment'] = reddit_df['sentiment'].astype(float)\n",
    "def assign_label(score):\n",
    "    if score < -0.5:\n",
    "        return 0  # Negative\n",
    "    elif -0.5 <= score <= 0.5:\n",
    "        return 1  # Neutral\n",
    "    else:\n",
    "        return 2  # Positive\n",
    "\n",
    "reddit_df['text'] = reddit_df['body']\n",
    "reddit_df['label'] = reddit_df['sentiment'].apply(assign_label)\n",
    "reddit_df = reddit_df[['text', 'label']]\n",
    "reddit_data = Dataset.from_pandas(reddit_df)\n",
    "\n",
    "\n",
    "reddit_dataset = DatasetDict({\n",
    "    'test': reddit_data\n",
    "})"
   ]
  },
  {
   "cell_type": "code",
   "execution_count": 3,
   "metadata": {},
   "outputs": [],
   "source": [
    "\n",
    "from sklearn.model_selection import train_test_split\n",
    "# Load the CSV file into a pandas DataFrame\n",
    "df = pd.read_csv('all_sampled_twitter.csv')\n",
    "\n",
    "# Split the DataFrame into train, validation, and test sets\n",
    "train_df, temp_df = train_test_split(df, test_size=0.4, random_state=42)\n",
    "val_df, test_df = train_test_split(temp_df, test_size=0.5, random_state=42)\n",
    "\n"
   ]
  },
  {
   "cell_type": "code",
   "execution_count": 4,
   "metadata": {},
   "outputs": [],
   "source": [
    "train_dataset = Dataset.from_pandas(train_df)\n",
    "val_dataset = Dataset.from_pandas(val_df)\n",
    "test_dataset = Dataset.from_pandas(test_df)\n",
    "\n",
    "# Create a DatasetDict\n",
    "dataset_dict = DatasetDict({\n",
    "    'train': train_dataset,\n",
    "    'validation': val_dataset,\n",
    "    'test': test_dataset\n",
    "})"
   ]
  },
  {
   "cell_type": "code",
   "execution_count": 5,
   "metadata": {},
   "outputs": [
    {
     "data": {
      "text/plain": [
       "DatasetDict({\n",
       "    train: Dataset({\n",
       "        features: ['text', 'label', '__index_level_0__'],\n",
       "        num_rows: 5246\n",
       "    })\n",
       "    validation: Dataset({\n",
       "        features: ['text', 'label', '__index_level_0__'],\n",
       "        num_rows: 1749\n",
       "    })\n",
       "    test: Dataset({\n",
       "        features: ['text', 'label', '__index_level_0__'],\n",
       "        num_rows: 1749\n",
       "    })\n",
       "})"
      ]
     },
     "execution_count": 5,
     "metadata": {},
     "output_type": "execute_result"
    }
   ],
   "source": [
    "dataset_dict"
   ]
  },
  {
   "cell_type": "code",
   "execution_count": 6,
   "metadata": {},
   "outputs": [],
   "source": [
    "from transformers import GPT2Tokenizer, GPT2ForSequenceClassification, DataCollatorWithPadding, TrainingArguments, Trainer\n",
    "import torch\n",
    "\n",
    "model_checkpoint = './sentiment-gpt2-2'\n",
    "tokenizer = GPT2Tokenizer.from_pretrained(model_checkpoint)\n",
    "tokenizer.pad_token = tokenizer.eos_token"
   ]
  },
  {
   "cell_type": "code",
   "execution_count": 7,
   "metadata": {},
   "outputs": [
    {
     "data": {
      "application/vnd.jupyter.widget-view+json": {
       "model_id": "8b4866bf6fd34ffa9202ab84955aa31a",
       "version_major": 2,
       "version_minor": 0
      },
      "text/plain": [
       "Map:   0%|          | 0/5246 [00:00<?, ? examples/s]"
      ]
     },
     "metadata": {},
     "output_type": "display_data"
    },
    {
     "data": {
      "application/vnd.jupyter.widget-view+json": {
       "model_id": "b20b0bea6f2f4476af0a3b3449465f12",
       "version_major": 2,
       "version_minor": 0
      },
      "text/plain": [
       "Map:   0%|          | 0/1749 [00:00<?, ? examples/s]"
      ]
     },
     "metadata": {},
     "output_type": "display_data"
    },
    {
     "data": {
      "application/vnd.jupyter.widget-view+json": {
       "model_id": "8a4f036ba34b4905b9f80c155af3a065",
       "version_major": 2,
       "version_minor": 0
      },
      "text/plain": [
       "Map:   0%|          | 0/1749 [00:00<?, ? examples/s]"
      ]
     },
     "metadata": {},
     "output_type": "display_data"
    }
   ],
   "source": [
    "def preprocess_function(examples):\n",
    "    tokenized = tokenizer(\n",
    "        examples['text'],\n",
    "        truncation=True,\n",
    "        padding=\"max_length\",\n",
    "        max_length=128\n",
    "    )\n",
    "    tokenized[\"labels\"] = examples[\"label\"]\n",
    "    return tokenized\n",
    "\n",
    "tokenized_datasets = dataset_dict.map(preprocess_function, batched=True)\n"
   ]
  },
  {
   "cell_type": "code",
   "execution_count": 8,
   "metadata": {},
   "outputs": [],
   "source": [
    "\n",
    "model = GPT2ForSequenceClassification.from_pretrained(model_checkpoint, num_labels=3)\n",
    "model.config.pad_token_id = tokenizer.pad_token_id"
   ]
  },
  {
   "cell_type": "code",
   "execution_count": 9,
   "metadata": {},
   "outputs": [],
   "source": [
    "data_collator = DataCollatorWithPadding(tokenizer=tokenizer)"
   ]
  },
  {
   "cell_type": "code",
   "execution_count": 10,
   "metadata": {},
   "outputs": [
    {
     "name": "stderr",
     "output_type": "stream",
     "text": [
      "/Users/srinathsureshkumar/miniconda3/envs/bda/lib/python3.12/site-packages/transformers/training_args.py:1559: FutureWarning: `evaluation_strategy` is deprecated and will be removed in version 4.46 of 🤗 Transformers. Use `eval_strategy` instead\n",
      "  warnings.warn(\n",
      "/var/folders/_v/9p5rkkbj79d0bmthxllw7rqm0000gn/T/ipykernel_70771/160643954.py:14: FutureWarning: `tokenizer` is deprecated and will be removed in version 5.0.0 for `Trainer.__init__`. Use `processing_class` instead.\n",
      "  trainer = Trainer(\n"
     ]
    }
   ],
   "source": [
    "\n",
    "training_args = TrainingArguments(\n",
    "    output_dir='./results',\n",
    "    evaluation_strategy='epoch',\n",
    "    learning_rate=2e-5,\n",
    "    per_device_train_batch_size=8,\n",
    "    per_device_eval_batch_size=8,\n",
    "    num_train_epochs=3,\n",
    "    weight_decay=0.01,\n",
    "    logging_dir='./logs',\n",
    "    logging_steps=10,\n",
    ")\n",
    "\n",
    "# Trainer\n",
    "trainer = Trainer(\n",
    "    model=model,\n",
    "    args=training_args,\n",
    "    train_dataset=tokenized_datasets['train'],\n",
    "    eval_dataset=tokenized_datasets['validation'],\n",
    "    tokenizer=tokenizer,\n",
    "    data_collator=data_collator,\n",
    ")\n"
   ]
  },
  {
   "cell_type": "code",
   "execution_count": 11,
   "metadata": {},
   "outputs": [
    {
     "data": {
      "application/vnd.jupyter.widget-view+json": {
       "model_id": "37743c7013c84358b2054eb7c136616b",
       "version_major": 2,
       "version_minor": 0
      },
      "text/plain": [
       "  0%|          | 0/219 [00:00<?, ?it/s]"
      ]
     },
     "metadata": {},
     "output_type": "display_data"
    },
    {
     "name": "stdout",
     "output_type": "stream",
     "text": [
      "Tweet Accuracy: 0.7501429388221841\n",
      "Tweet Precision: 0.7651695680221285\n",
      "Tweet Recall: 0.7584665780811354\n",
      "Tweet F1 Score: 0.7455220403789472\n",
      "Tweet Accuracy: 0.7501429388221841\n"
     ]
    },
    {
     "data": {
      "image/png": "[encoded data removed]",
      "text/plain": [
       "<Figure size 1000x700 with 2 Axes>"
      ]
     },
     "metadata": {},
     "output_type": "display_data"
    }
   ],
   "source": [
    "predictions = trainer.predict(tokenized_datasets['test'])\n",
    "predicted_labels = torch.argmax(torch.tensor(predictions.predictions), dim=1)\n",
    "\n",
    "from sklearn.metrics import accuracy_score, f1_score, precision_score, recall_score, confusion_matrix\n",
    "from sklearn.metrics import accuracy_score, f1_score, precision_score, recall_score, confusion_matrix\n",
    "import seaborn as sns\n",
    "import matplotlib.pyplot as plt\n",
    "\n",
    "\n",
    "accuracy = accuracy_score(tokenized_datasets['test']['label'], predicted_labels)\n",
    "precision = precision_score(tokenized_datasets['test']['label'], predicted_labels, average='macro')\n",
    "recall = recall_score(tokenized_datasets['test']['label'], predicted_labels, average='macro')\n",
    "f1_score_ = f1_score(tokenized_datasets['test']['label'], predicted_labels, average='macro')\n",
    "\n",
    "print(f'Tweet Accuracy: {accuracy}')\n",
    "print(f'Tweet Precision: {precision}')\n",
    "print(f'Tweet Recall: {recall}')\n",
    "print(f'Tweet F1 Score: {f1_score_}')\n",
    "print(f'Tweet Accuracy: {accuracy}')\n",
    "\n",
    "conf_matrix = confusion_matrix(tokenized_datasets['test']['labels'], predicted_labels)\n",
    "\n",
    "plt.figure(figsize=(10, 7))\n",
    "sns.heatmap(conf_matrix, annot=True, fmt='d', cmap='Blues', xticklabels=['negative', 'neutral', 'positive'], yticklabels=['negative', 'neutral', 'positive'])\n",
    "plt.xlabel('Predicted')\n",
    "plt.ylabel('True')\n",
    "plt.title('Confusion Matrix')\n",
    "plt.show()"
   ]
  },
  {
   "cell_type": "code",
   "execution_count": 12,
   "metadata": {},
   "outputs": [
    {
     "data": {
      "application/vnd.jupyter.widget-view+json": {
       "model_id": "e7485dfed37c4cebbc3bf91cd08ffa50",
       "version_major": 2,
       "version_minor": 0
      },
      "text/plain": [
       "  0%|          | 0/1968 [00:00<?, ?it/s]"
      ]
     },
     "metadata": {},
     "output_type": "display_data"
    },
    {
     "name": "stdout",
     "output_type": "stream",
     "text": [
      "{'loss': 0.56, 'grad_norm': 18.514238357543945, 'learning_rate': 1.989837398373984e-05, 'epoch': 0.02}\n",
      "{'loss': 0.6469, 'grad_norm': 23.276262283325195, 'learning_rate': 1.9796747967479675e-05, 'epoch': 0.03}\n",
      "{'loss': 0.5595, 'grad_norm': 22.711009979248047, 'learning_rate': 1.9695121951219512e-05, 'epoch': 0.05}\n",
      "{'loss': 0.5457, 'grad_norm': 14.27566909790039, 'learning_rate': 1.959349593495935e-05, 'epoch': 0.06}\n",
      "{'loss': 0.4416, 'grad_norm': 16.181434631347656, 'learning_rate': 1.949186991869919e-05, 'epoch': 0.08}\n",
      "{'loss': 0.657, 'grad_norm': 35.62565994262695, 'learning_rate': 1.9390243902439026e-05, 'epoch': 0.09}\n",
      "{'loss': 0.4875, 'grad_norm': 2.2209320068359375, 'learning_rate': 1.9288617886178863e-05, 'epoch': 0.11}\n",
      "{'loss': 0.5908, 'grad_norm': 2.60404634475708, 'learning_rate': 1.91869918699187e-05, 'epoch': 0.12}\n",
      "{'loss': 0.43, 'grad_norm': 12.692609786987305, 'learning_rate': 1.9085365853658537e-05, 'epoch': 0.14}\n",
      "{'loss': 0.4823, 'grad_norm': 7.0627336502075195, 'learning_rate': 1.8983739837398377e-05, 'epoch': 0.15}\n",
      "{'loss': 0.386, 'grad_norm': 31.139020919799805, 'learning_rate': 1.8882113821138214e-05, 'epoch': 0.17}\n",
      "{'loss': 0.4339, 'grad_norm': 8.611268043518066, 'learning_rate': 1.878048780487805e-05, 'epoch': 0.18}\n",
      "{'loss': 0.3699, 'grad_norm': 3.664520740509033, 'learning_rate': 1.8678861788617888e-05, 'epoch': 0.2}\n",
      "{'loss': 0.4931, 'grad_norm': 22.565650939941406, 'learning_rate': 1.8577235772357724e-05, 'epoch': 0.21}\n",
      "{'loss': 0.4875, 'grad_norm': 8.362969398498535, 'learning_rate': 1.8475609756097565e-05, 'epoch': 0.23}\n",
      "{'loss': 0.6556, 'grad_norm': 36.14509582519531, 'learning_rate': 1.83739837398374e-05, 'epoch': 0.24}\n",
      "{'loss': 0.4387, 'grad_norm': 15.411563873291016, 'learning_rate': 1.8272357723577235e-05, 'epoch': 0.26}\n",
      "{'loss': 0.4211, 'grad_norm': 7.062315940856934, 'learning_rate': 1.8170731707317075e-05, 'epoch': 0.27}\n",
      "{'loss': 0.6856, 'grad_norm': 22.274477005004883, 'learning_rate': 1.8069105691056912e-05, 'epoch': 0.29}\n",
      "{'loss': 0.5567, 'grad_norm': 49.47333526611328, 'learning_rate': 1.796747967479675e-05, 'epoch': 0.3}\n",
      "{'loss': 0.4854, 'grad_norm': 9.847929954528809, 'learning_rate': 1.7865853658536586e-05, 'epoch': 0.32}\n",
      "{'loss': 0.4304, 'grad_norm': 7.443334579467773, 'learning_rate': 1.7764227642276423e-05, 'epoch': 0.34}\n",
      "{'loss': 0.605, 'grad_norm': 11.617693901062012, 'learning_rate': 1.7662601626016263e-05, 'epoch': 0.35}\n",
      "{'loss': 0.3721, 'grad_norm': 17.444570541381836, 'learning_rate': 1.75609756097561e-05, 'epoch': 0.37}\n",
      "{'loss': 0.4442, 'grad_norm': 18.967666625976562, 'learning_rate': 1.7459349593495937e-05, 'epoch': 0.38}\n",
      "{'loss': 0.3201, 'grad_norm': 20.689048767089844, 'learning_rate': 1.7357723577235773e-05, 'epoch': 0.4}\n",
      "{'loss': 0.2807, 'grad_norm': 10.6008882522583, 'learning_rate': 1.725609756097561e-05, 'epoch': 0.41}\n",
      "{'loss': 0.5268, 'grad_norm': 23.17561149597168, 'learning_rate': 1.7154471544715447e-05, 'epoch': 0.43}\n",
      "{'loss': 0.5527, 'grad_norm': 14.580574989318848, 'learning_rate': 1.7052845528455287e-05, 'epoch': 0.44}\n",
      "{'loss': 0.4403, 'grad_norm': 20.827301025390625, 'learning_rate': 1.6951219512195124e-05, 'epoch': 0.46}\n",
      "{'loss': 0.3526, 'grad_norm': 16.866735458374023, 'learning_rate': 1.684959349593496e-05, 'epoch': 0.47}\n",
      "{'loss': 0.5549, 'grad_norm': 15.080947875976562, 'learning_rate': 1.6747967479674798e-05, 'epoch': 0.49}\n",
      "{'loss': 0.5495, 'grad_norm': 20.4605655670166, 'learning_rate': 1.6646341463414635e-05, 'epoch': 0.5}\n",
      "{'loss': 0.472, 'grad_norm': 9.366171836853027, 'learning_rate': 1.6544715447154475e-05, 'epoch': 0.52}\n",
      "{'loss': 0.2007, 'grad_norm': 34.52395248413086, 'learning_rate': 1.644308943089431e-05, 'epoch': 0.53}\n",
      "{'loss': 0.3155, 'grad_norm': 13.285902976989746, 'learning_rate': 1.6341463414634145e-05, 'epoch': 0.55}\n",
      "{'loss': 0.489, 'grad_norm': 22.197296142578125, 'learning_rate': 1.6239837398373986e-05, 'epoch': 0.56}\n",
      "{'loss': 0.2493, 'grad_norm': 16.8758602142334, 'learning_rate': 1.6138211382113823e-05, 'epoch': 0.58}\n",
      "{'loss': 0.3185, 'grad_norm': 9.445552825927734, 'learning_rate': 1.603658536585366e-05, 'epoch': 0.59}\n",
      "{'loss': 0.5453, 'grad_norm': 23.746850967407227, 'learning_rate': 1.5934959349593496e-05, 'epoch': 0.61}\n",
      "{'loss': 0.4116, 'grad_norm': 2.103508234024048, 'learning_rate': 1.5833333333333333e-05, 'epoch': 0.62}\n",
      "{'loss': 0.4866, 'grad_norm': 11.920859336853027, 'learning_rate': 1.5731707317073173e-05, 'epoch': 0.64}\n",
      "{'loss': 0.6465, 'grad_norm': 11.517992973327637, 'learning_rate': 1.563008130081301e-05, 'epoch': 0.66}\n",
      "{'loss': 0.5293, 'grad_norm': 27.488380432128906, 'learning_rate': 1.5528455284552847e-05, 'epoch': 0.67}\n",
      "{'loss': 0.7123, 'grad_norm': 22.138572692871094, 'learning_rate': 1.5426829268292684e-05, 'epoch': 0.69}\n",
      "{'loss': 0.4489, 'grad_norm': 24.27496910095215, 'learning_rate': 1.532520325203252e-05, 'epoch': 0.7}\n",
      "{'loss': 0.4172, 'grad_norm': 13.887372970581055, 'learning_rate': 1.522357723577236e-05, 'epoch': 0.72}\n",
      "{'loss': 0.42, 'grad_norm': 21.12332534790039, 'learning_rate': 1.5121951219512196e-05, 'epoch': 0.73}\n",
      "{'loss': 0.4733, 'grad_norm': 11.152619361877441, 'learning_rate': 1.5020325203252033e-05, 'epoch': 0.75}\n",
      "{'loss': 0.4901, 'grad_norm': 32.24537658691406, 'learning_rate': 1.4918699186991872e-05, 'epoch': 0.76}\n",
      "{'loss': 0.4305, 'grad_norm': 23.912425994873047, 'learning_rate': 1.4817073170731708e-05, 'epoch': 0.78}\n",
      "{'loss': 0.6093, 'grad_norm': 23.09029197692871, 'learning_rate': 1.4715447154471545e-05, 'epoch': 0.79}\n",
      "{'loss': 0.56, 'grad_norm': 17.11239242553711, 'learning_rate': 1.4613821138211384e-05, 'epoch': 0.81}\n",
      "{'loss': 0.4754, 'grad_norm': 33.23080825805664, 'learning_rate': 1.451219512195122e-05, 'epoch': 0.82}\n",
      "{'loss': 0.5149, 'grad_norm': 11.703614234924316, 'learning_rate': 1.441056910569106e-05, 'epoch': 0.84}\n",
      "{'loss': 0.5262, 'grad_norm': 12.627789497375488, 'learning_rate': 1.4308943089430896e-05, 'epoch': 0.85}\n",
      "{'loss': 0.4577, 'grad_norm': 16.562728881835938, 'learning_rate': 1.4207317073170733e-05, 'epoch': 0.87}\n",
      "{'loss': 0.4063, 'grad_norm': 7.3456926345825195, 'learning_rate': 1.4105691056910571e-05, 'epoch': 0.88}\n",
      "{'loss': 0.3167, 'grad_norm': 11.187588691711426, 'learning_rate': 1.4004065040650408e-05, 'epoch': 0.9}\n",
      "{'loss': 0.5648, 'grad_norm': 31.983179092407227, 'learning_rate': 1.3902439024390244e-05, 'epoch': 0.91}\n",
      "{'loss': 0.4364, 'grad_norm': 15.693717956542969, 'learning_rate': 1.3800813008130082e-05, 'epoch': 0.93}\n",
      "{'loss': 0.4711, 'grad_norm': 8.053302764892578, 'learning_rate': 1.3699186991869919e-05, 'epoch': 0.95}\n",
      "{'loss': 0.4938, 'grad_norm': 31.607830047607422, 'learning_rate': 1.3597560975609757e-05, 'epoch': 0.96}\n",
      "{'loss': 0.5043, 'grad_norm': 23.235626220703125, 'learning_rate': 1.3495934959349594e-05, 'epoch': 0.98}\n",
      "{'loss': 0.2859, 'grad_norm': 23.417770385742188, 'learning_rate': 1.3394308943089431e-05, 'epoch': 0.99}\n"
     ]
    },
    {
     "data": {
      "application/vnd.jupyter.widget-view+json": {
       "model_id": "a23b80dbcb07400d8e2ab788b585ddf5",
       "version_major": 2,
       "version_minor": 0
      },
      "text/plain": [
       "  0%|          | 0/219 [00:00<?, ?it/s]"
      ]
     },
     "metadata": {},
     "output_type": "display_data"
    },
    {
     "name": "stdout",
     "output_type": "stream",
     "text": [
      "{'eval_loss': 0.41563692688941956, 'eval_model_preparation_time': 0.0009, 'eval_runtime': 18.1671, 'eval_samples_per_second': 96.273, 'eval_steps_per_second': 12.055, 'epoch': 1.0}\n",
      "{'loss': 0.4485, 'grad_norm': 14.816426277160645, 'learning_rate': 1.329268292682927e-05, 'epoch': 1.01}\n",
      "{'loss': 0.4833, 'grad_norm': 27.135969161987305, 'learning_rate': 1.3191056910569107e-05, 'epoch': 1.02}\n",
      "{'loss': 0.1326, 'grad_norm': 5.523897171020508, 'learning_rate': 1.3089430894308943e-05, 'epoch': 1.04}\n",
      "{'loss': 0.3137, 'grad_norm': 18.647769927978516, 'learning_rate': 1.2987804878048782e-05, 'epoch': 1.05}\n",
      "{'loss': 0.2642, 'grad_norm': 21.592077255249023, 'learning_rate': 1.2886178861788619e-05, 'epoch': 1.07}\n",
      "{'loss': 0.3732, 'grad_norm': 40.56724166870117, 'learning_rate': 1.2784552845528457e-05, 'epoch': 1.08}\n",
      "{'loss': 0.1918, 'grad_norm': 17.414552688598633, 'learning_rate': 1.2682926829268294e-05, 'epoch': 1.1}\n",
      "{'loss': 0.296, 'grad_norm': 2.779433488845825, 'learning_rate': 1.2581300813008131e-05, 'epoch': 1.11}\n",
      "{'loss': 0.3226, 'grad_norm': 9.51429271697998, 'learning_rate': 1.247967479674797e-05, 'epoch': 1.13}\n",
      "{'loss': 0.2363, 'grad_norm': 29.260547637939453, 'learning_rate': 1.2378048780487807e-05, 'epoch': 1.14}\n",
      "{'loss': 0.2822, 'grad_norm': 22.986900329589844, 'learning_rate': 1.2276422764227642e-05, 'epoch': 1.16}\n",
      "{'loss': 0.5006, 'grad_norm': 14.173792839050293, 'learning_rate': 1.2174796747967482e-05, 'epoch': 1.17}\n",
      "{'loss': 0.4481, 'grad_norm': 6.92730712890625, 'learning_rate': 1.2073170731707317e-05, 'epoch': 1.19}\n",
      "{'loss': 0.1474, 'grad_norm': 2.903263568878174, 'learning_rate': 1.1971544715447156e-05, 'epoch': 1.2}\n",
      "{'loss': 0.396, 'grad_norm': 29.20102882385254, 'learning_rate': 1.1869918699186992e-05, 'epoch': 1.22}\n",
      "{'loss': 0.3276, 'grad_norm': 5.660030364990234, 'learning_rate': 1.176829268292683e-05, 'epoch': 1.23}\n",
      "{'loss': 0.4416, 'grad_norm': 19.850738525390625, 'learning_rate': 1.1666666666666668e-05, 'epoch': 1.25}\n",
      "{'loss': 0.3234, 'grad_norm': 5.951243877410889, 'learning_rate': 1.1565040650406505e-05, 'epoch': 1.27}\n",
      "{'loss': 0.2153, 'grad_norm': 2.5216360092163086, 'learning_rate': 1.1463414634146342e-05, 'epoch': 1.28}\n",
      "{'loss': 0.2184, 'grad_norm': 38.619258880615234, 'learning_rate': 1.136178861788618e-05, 'epoch': 1.3}\n",
      "{'loss': 0.2855, 'grad_norm': 11.068107604980469, 'learning_rate': 1.1260162601626017e-05, 'epoch': 1.31}\n",
      "{'loss': 0.3446, 'grad_norm': 22.307594299316406, 'learning_rate': 1.1158536585365856e-05, 'epoch': 1.33}\n",
      "{'loss': 0.3498, 'grad_norm': 26.962671279907227, 'learning_rate': 1.1056910569105692e-05, 'epoch': 1.34}\n",
      "{'loss': 0.2732, 'grad_norm': 16.98052978515625, 'learning_rate': 1.095528455284553e-05, 'epoch': 1.36}\n",
      "{'loss': 0.3085, 'grad_norm': 5.3475799560546875, 'learning_rate': 1.0853658536585368e-05, 'epoch': 1.37}\n",
      "{'loss': 0.352, 'grad_norm': 14.304558753967285, 'learning_rate': 1.0752032520325205e-05, 'epoch': 1.39}\n",
      "{'loss': 0.4981, 'grad_norm': 5.703078746795654, 'learning_rate': 1.065040650406504e-05, 'epoch': 1.4}\n",
      "{'loss': 0.5361, 'grad_norm': 34.41632843017578, 'learning_rate': 1.054878048780488e-05, 'epoch': 1.42}\n",
      "{'loss': 0.2459, 'grad_norm': 11.467790603637695, 'learning_rate': 1.0447154471544715e-05, 'epoch': 1.43}\n",
      "{'loss': 0.22, 'grad_norm': 13.003220558166504, 'learning_rate': 1.0345528455284556e-05, 'epoch': 1.45}\n",
      "{'loss': 0.2346, 'grad_norm': 16.556509017944336, 'learning_rate': 1.024390243902439e-05, 'epoch': 1.46}\n",
      "{'loss': 0.3643, 'grad_norm': 37.38525390625, 'learning_rate': 1.0142276422764228e-05, 'epoch': 1.48}\n",
      "{'loss': 0.4004, 'grad_norm': 0.4082687795162201, 'learning_rate': 1.0040650406504066e-05, 'epoch': 1.49}\n",
      "{'loss': 0.3917, 'grad_norm': 1.9795594215393066, 'learning_rate': 9.939024390243903e-06, 'epoch': 1.51}\n",
      "{'loss': 0.4632, 'grad_norm': 37.02278137207031, 'learning_rate': 9.837398373983741e-06, 'epoch': 1.52}\n",
      "{'loss': 0.4311, 'grad_norm': 8.460086822509766, 'learning_rate': 9.735772357723578e-06, 'epoch': 1.54}\n",
      "{'loss': 0.2835, 'grad_norm': 1.3769659996032715, 'learning_rate': 9.634146341463415e-06, 'epoch': 1.55}\n",
      "{'loss': 0.4278, 'grad_norm': 58.73781204223633, 'learning_rate': 9.532520325203252e-06, 'epoch': 1.57}\n",
      "{'loss': 0.4622, 'grad_norm': 23.860694885253906, 'learning_rate': 9.43089430894309e-06, 'epoch': 1.59}\n",
      "{'loss': 0.2476, 'grad_norm': 6.755346775054932, 'learning_rate': 9.329268292682927e-06, 'epoch': 1.6}\n",
      "{'loss': 0.1825, 'grad_norm': 6.122363090515137, 'learning_rate': 9.227642276422764e-06, 'epoch': 1.62}\n",
      "{'loss': 0.4705, 'grad_norm': 43.839019775390625, 'learning_rate': 9.126016260162603e-06, 'epoch': 1.63}\n",
      "{'loss': 0.2881, 'grad_norm': 15.287367820739746, 'learning_rate': 9.02439024390244e-06, 'epoch': 1.65}\n",
      "{'loss': 0.171, 'grad_norm': 27.000911712646484, 'learning_rate': 8.922764227642278e-06, 'epoch': 1.66}\n",
      "{'loss': 0.474, 'grad_norm': 49.31171798706055, 'learning_rate': 8.821138211382113e-06, 'epoch': 1.68}\n",
      "{'loss': 0.2602, 'grad_norm': 4.636435031890869, 'learning_rate': 8.719512195121952e-06, 'epoch': 1.69}\n",
      "{'loss': 0.2936, 'grad_norm': 10.661409378051758, 'learning_rate': 8.617886178861789e-06, 'epoch': 1.71}\n",
      "{'loss': 0.1833, 'grad_norm': 9.079626083374023, 'learning_rate': 8.516260162601627e-06, 'epoch': 1.72}\n",
      "{'loss': 0.3885, 'grad_norm': 23.03682518005371, 'learning_rate': 8.414634146341464e-06, 'epoch': 1.74}\n",
      "{'loss': 0.3006, 'grad_norm': 13.574069023132324, 'learning_rate': 8.313008130081301e-06, 'epoch': 1.75}\n",
      "{'loss': 0.3326, 'grad_norm': 14.986931800842285, 'learning_rate': 8.21138211382114e-06, 'epoch': 1.77}\n",
      "{'loss': 0.2636, 'grad_norm': 31.905309677124023, 'learning_rate': 8.109756097560977e-06, 'epoch': 1.78}\n",
      "{'loss': 0.3371, 'grad_norm': 1.0085080862045288, 'learning_rate': 8.008130081300813e-06, 'epoch': 1.8}\n",
      "{'loss': 0.522, 'grad_norm': 26.143051147460938, 'learning_rate': 7.90650406504065e-06, 'epoch': 1.81}\n",
      "{'loss': 0.3843, 'grad_norm': 37.48945999145508, 'learning_rate': 7.804878048780489e-06, 'epoch': 1.83}\n",
      "{'loss': 0.3089, 'grad_norm': 33.17024230957031, 'learning_rate': 7.703252032520326e-06, 'epoch': 1.84}\n",
      "{'loss': 0.3197, 'grad_norm': 22.08323860168457, 'learning_rate': 7.601626016260163e-06, 'epoch': 1.86}\n",
      "{'loss': 0.4202, 'grad_norm': 20.91889190673828, 'learning_rate': 7.500000000000001e-06, 'epoch': 1.88}\n",
      "{'loss': 0.2243, 'grad_norm': 17.154354095458984, 'learning_rate': 7.398373983739838e-06, 'epoch': 1.89}\n",
      "{'loss': 0.2905, 'grad_norm': 24.197696685791016, 'learning_rate': 7.296747967479675e-06, 'epoch': 1.91}\n",
      "{'loss': 0.3106, 'grad_norm': 10.281739234924316, 'learning_rate': 7.1951219512195125e-06, 'epoch': 1.92}\n",
      "{'loss': 0.324, 'grad_norm': 15.728545188903809, 'learning_rate': 7.09349593495935e-06, 'epoch': 1.94}\n",
      "{'loss': 0.3465, 'grad_norm': 27.71681022644043, 'learning_rate': 6.991869918699188e-06, 'epoch': 1.95}\n",
      "{'loss': 0.1035, 'grad_norm': 36.52482223510742, 'learning_rate': 6.890243902439025e-06, 'epoch': 1.97}\n",
      "{'loss': 0.2445, 'grad_norm': 12.398150444030762, 'learning_rate': 6.788617886178862e-06, 'epoch': 1.98}\n",
      "{'loss': 0.2932, 'grad_norm': 1.4884129762649536, 'learning_rate': 6.6869918699187e-06, 'epoch': 2.0}\n"
     ]
    },
    {
     "data": {
      "application/vnd.jupyter.widget-view+json": {
       "model_id": "37deceb54d894728acfc6ab85ec2b87b",
       "version_major": 2,
       "version_minor": 0
      },
      "text/plain": [
       "  0%|          | 0/219 [00:00<?, ?it/s]"
      ]
     },
     "metadata": {},
     "output_type": "display_data"
    },
    {
     "name": "stdout",
     "output_type": "stream",
     "text": [
      "{'eval_loss': 0.49883538484573364, 'eval_model_preparation_time': 0.0009, 'eval_runtime': 18.3432, 'eval_samples_per_second': 95.349, 'eval_steps_per_second': 11.939, 'epoch': 2.0}\n",
      "{'loss': 0.2173, 'grad_norm': 9.227575302124023, 'learning_rate': 6.585365853658538e-06, 'epoch': 2.01}\n",
      "{'loss': 0.2512, 'grad_norm': 17.69123077392578, 'learning_rate': 6.483739837398374e-06, 'epoch': 2.03}\n",
      "{'loss': 0.1589, 'grad_norm': 9.07698917388916, 'learning_rate': 6.3821138211382115e-06, 'epoch': 2.04}\n",
      "{'loss': 0.2396, 'grad_norm': 4.620939254760742, 'learning_rate': 6.280487804878049e-06, 'epoch': 2.06}\n",
      "{'loss': 0.2484, 'grad_norm': 6.167441368103027, 'learning_rate': 6.178861788617887e-06, 'epoch': 2.07}\n",
      "{'loss': 0.1854, 'grad_norm': 2.2459611892700195, 'learning_rate': 6.077235772357724e-06, 'epoch': 2.09}\n",
      "{'loss': 0.2084, 'grad_norm': 10.986719131469727, 'learning_rate': 5.9756097560975615e-06, 'epoch': 2.1}\n",
      "{'loss': 0.2932, 'grad_norm': 17.38262939453125, 'learning_rate': 5.873983739837399e-06, 'epoch': 2.12}\n",
      "{'loss': 0.109, 'grad_norm': 11.169772148132324, 'learning_rate': 5.772357723577237e-06, 'epoch': 2.13}\n",
      "{'loss': 0.1244, 'grad_norm': 4.551431655883789, 'learning_rate': 5.670731707317073e-06, 'epoch': 2.15}\n",
      "{'loss': 0.2308, 'grad_norm': 36.43609619140625, 'learning_rate': 5.569105691056911e-06, 'epoch': 2.16}\n",
      "{'loss': 0.2893, 'grad_norm': 30.833364486694336, 'learning_rate': 5.467479674796748e-06, 'epoch': 2.18}\n",
      "{'loss': 0.3276, 'grad_norm': 18.050365447998047, 'learning_rate': 5.365853658536586e-06, 'epoch': 2.2}\n",
      "{'loss': 0.1574, 'grad_norm': 0.6750717163085938, 'learning_rate': 5.264227642276423e-06, 'epoch': 2.21}\n",
      "{'loss': 0.1489, 'grad_norm': 6.552028656005859, 'learning_rate': 5.162601626016261e-06, 'epoch': 2.23}\n",
      "{'loss': 0.1606, 'grad_norm': 4.840586185455322, 'learning_rate': 5.060975609756098e-06, 'epoch': 2.24}\n",
      "{'loss': 0.195, 'grad_norm': 0.9877758026123047, 'learning_rate': 4.959349593495935e-06, 'epoch': 2.26}\n",
      "{'loss': 0.3953, 'grad_norm': 5.568206310272217, 'learning_rate': 4.857723577235773e-06, 'epoch': 2.27}\n",
      "{'loss': 0.2229, 'grad_norm': 9.345335006713867, 'learning_rate': 4.75609756097561e-06, 'epoch': 2.29}\n",
      "{'loss': 0.3157, 'grad_norm': 2.6903741359710693, 'learning_rate': 4.654471544715447e-06, 'epoch': 2.3}\n",
      "{'loss': 0.2807, 'grad_norm': 32.0532112121582, 'learning_rate': 4.552845528455285e-06, 'epoch': 2.32}\n",
      "{'loss': 0.2684, 'grad_norm': 29.44367790222168, 'learning_rate': 4.451219512195122e-06, 'epoch': 2.33}\n",
      "{'loss': 0.1584, 'grad_norm': 14.214715003967285, 'learning_rate': 4.34959349593496e-06, 'epoch': 2.35}\n",
      "{'loss': 0.0999, 'grad_norm': 1.3867921829223633, 'learning_rate': 4.247967479674797e-06, 'epoch': 2.36}\n",
      "{'loss': 0.2191, 'grad_norm': 26.958955764770508, 'learning_rate': 4.146341463414634e-06, 'epoch': 2.38}\n",
      "{'loss': 0.22, 'grad_norm': 24.275409698486328, 'learning_rate': 4.044715447154472e-06, 'epoch': 2.39}\n",
      "{'loss': 0.4955, 'grad_norm': 17.50159454345703, 'learning_rate': 3.943089430894309e-06, 'epoch': 2.41}\n",
      "{'loss': 0.4071, 'grad_norm': 41.168575286865234, 'learning_rate': 3.8414634146341465e-06, 'epoch': 2.42}\n",
      "{'loss': 0.3027, 'grad_norm': 3.223129987716675, 'learning_rate': 3.7398373983739838e-06, 'epoch': 2.44}\n",
      "{'loss': 0.2469, 'grad_norm': 0.3466496467590332, 'learning_rate': 3.6382113821138215e-06, 'epoch': 2.45}\n",
      "{'loss': 0.2118, 'grad_norm': 18.04277229309082, 'learning_rate': 3.5365853658536588e-06, 'epoch': 2.47}\n",
      "{'loss': 0.1793, 'grad_norm': 10.00843620300293, 'learning_rate': 3.4349593495934965e-06, 'epoch': 2.48}\n",
      "{'loss': 0.3153, 'grad_norm': 29.69976234436035, 'learning_rate': 3.3333333333333333e-06, 'epoch': 2.5}\n",
      "{'loss': 0.4743, 'grad_norm': 17.4074764251709, 'learning_rate': 3.231707317073171e-06, 'epoch': 2.52}\n",
      "{'loss': 0.2218, 'grad_norm': 36.026798248291016, 'learning_rate': 3.1300813008130083e-06, 'epoch': 2.53}\n",
      "{'loss': 0.3116, 'grad_norm': 7.040306091308594, 'learning_rate': 3.028455284552846e-06, 'epoch': 2.55}\n",
      "{'loss': 0.1492, 'grad_norm': 3.9252984523773193, 'learning_rate': 2.926829268292683e-06, 'epoch': 2.56}\n",
      "{'loss': 0.2542, 'grad_norm': 44.79275894165039, 'learning_rate': 2.8252032520325206e-06, 'epoch': 2.58}\n",
      "{'loss': 0.1582, 'grad_norm': 11.049002647399902, 'learning_rate': 2.723577235772358e-06, 'epoch': 2.59}\n",
      "{'loss': 0.1456, 'grad_norm': 15.129731178283691, 'learning_rate': 2.6219512195121956e-06, 'epoch': 2.61}\n",
      "{'loss': 0.2353, 'grad_norm': 22.415918350219727, 'learning_rate': 2.5203252032520324e-06, 'epoch': 2.62}\n",
      "{'loss': 0.3059, 'grad_norm': 3.4388535022735596, 'learning_rate': 2.41869918699187e-06, 'epoch': 2.64}\n",
      "{'loss': 0.0665, 'grad_norm': 14.80756664276123, 'learning_rate': 2.317073170731708e-06, 'epoch': 2.65}\n",
      "{'loss': 0.2045, 'grad_norm': 2.6412010192871094, 'learning_rate': 2.215447154471545e-06, 'epoch': 2.67}\n",
      "{'loss': 0.2253, 'grad_norm': 11.577993392944336, 'learning_rate': 2.1138211382113824e-06, 'epoch': 2.68}\n",
      "{'loss': 0.1881, 'grad_norm': 14.715779304504395, 'learning_rate': 2.0121951219512197e-06, 'epoch': 2.7}\n",
      "{'loss': 0.1681, 'grad_norm': 9.21276569366455, 'learning_rate': 1.9105691056910574e-06, 'epoch': 2.71}\n",
      "{'loss': 0.2122, 'grad_norm': 4.130834579467773, 'learning_rate': 1.8089430894308946e-06, 'epoch': 2.73}\n",
      "{'loss': 0.282, 'grad_norm': 15.257648468017578, 'learning_rate': 1.707317073170732e-06, 'epoch': 2.74}\n",
      "{'loss': 0.0864, 'grad_norm': 20.38042449951172, 'learning_rate': 1.6056910569105694e-06, 'epoch': 2.76}\n",
      "{'loss': 0.2981, 'grad_norm': 38.806541442871094, 'learning_rate': 1.5040650406504067e-06, 'epoch': 2.77}\n",
      "{'loss': 0.0839, 'grad_norm': 3.5414845943450928, 'learning_rate': 1.4024390243902442e-06, 'epoch': 2.79}\n",
      "{'loss': 0.1744, 'grad_norm': 21.265512466430664, 'learning_rate': 1.3008130081300815e-06, 'epoch': 2.8}\n",
      "{'loss': 0.217, 'grad_norm': 25.79019546508789, 'learning_rate': 1.1991869918699187e-06, 'epoch': 2.82}\n",
      "{'loss': 0.2489, 'grad_norm': 0.2140618860721588, 'learning_rate': 1.0975609756097562e-06, 'epoch': 2.84}\n",
      "{'loss': 0.1145, 'grad_norm': 10.147027969360352, 'learning_rate': 9.959349593495935e-07, 'epoch': 2.85}\n",
      "{'loss': 0.1583, 'grad_norm': 5.219649314880371, 'learning_rate': 8.94308943089431e-07, 'epoch': 2.87}\n",
      "{'loss': 0.2742, 'grad_norm': 41.382080078125, 'learning_rate': 7.926829268292684e-07, 'epoch': 2.88}\n",
      "{'loss': 0.3475, 'grad_norm': 0.9232218861579895, 'learning_rate': 6.910569105691058e-07, 'epoch': 2.9}\n",
      "{'loss': 0.2744, 'grad_norm': 31.450910568237305, 'learning_rate': 5.894308943089432e-07, 'epoch': 2.91}\n",
      "{'loss': 0.1806, 'grad_norm': 9.422908782958984, 'learning_rate': 4.878048780487805e-07, 'epoch': 2.93}\n",
      "{'loss': 0.1491, 'grad_norm': 34.38284683227539, 'learning_rate': 3.8617886178861793e-07, 'epoch': 2.94}\n",
      "{'loss': 0.4046, 'grad_norm': 1.2245649099349976, 'learning_rate': 2.845528455284553e-07, 'epoch': 2.96}\n",
      "{'loss': 0.3209, 'grad_norm': 0.3518713116645813, 'learning_rate': 1.8292682926829268e-07, 'epoch': 2.97}\n",
      "{'loss': 0.2861, 'grad_norm': 10.841263771057129, 'learning_rate': 8.130081300813009e-08, 'epoch': 2.99}\n"
     ]
    },
    {
     "data": {
      "application/vnd.jupyter.widget-view+json": {
       "model_id": "12f5696164e54cb5ba38b7b254b8245f",
       "version_major": 2,
       "version_minor": 0
      },
      "text/plain": [
       "  0%|          | 0/219 [00:00<?, ?it/s]"
      ]
     },
     "metadata": {},
     "output_type": "display_data"
    },
    {
     "name": "stdout",
     "output_type": "stream",
     "text": [
      "{'eval_loss': 0.5799921154975891, 'eval_model_preparation_time': 0.0009, 'eval_runtime': 18.3701, 'eval_samples_per_second': 95.209, 'eval_steps_per_second': 11.922, 'epoch': 3.0}\n",
      "{'train_runtime': 718.4487, 'train_samples_per_second': 21.906, 'train_steps_per_second': 2.739, 'train_loss': 0.3440863993776038, 'epoch': 3.0}\n"
     ]
    },
    {
     "data": {
      "text/plain": [
       "TrainOutput(global_step=1968, training_loss=0.3440863993776038, metrics={'train_runtime': 718.4487, 'train_samples_per_second': 21.906, 'train_steps_per_second': 2.739, 'total_flos': 1028081347854336.0, 'train_loss': 0.3440863993776038, 'epoch': 3.0})"
      ]
     },
     "execution_count": 12,
     "metadata": {},
     "output_type": "execute_result"
    }
   ],
   "source": [
    "trainer.train()"
   ]
  },
  {
   "cell_type": "code",
   "execution_count": 13,
   "metadata": {},
   "outputs": [
    {
     "data": {
      "application/vnd.jupyter.widget-view+json": {
       "model_id": "3c71686e63024cd990282d2178e8f481",
       "version_major": 2,
       "version_minor": 0
      },
      "text/plain": [
       "  0%|          | 0/219 [00:00<?, ?it/s]"
      ]
     },
     "metadata": {},
     "output_type": "display_data"
    },
    {
     "data": {
      "text/plain": [
       "{'eval_loss': 0.5799921154975891,\n",
       " 'eval_model_preparation_time': 0.0009,\n",
       " 'eval_runtime': 18.3281,\n",
       " 'eval_samples_per_second': 95.427,\n",
       " 'eval_steps_per_second': 11.949,\n",
       " 'epoch': 3.0}"
      ]
     },
     "execution_count": 13,
     "metadata": {},
     "output_type": "execute_result"
    }
   ],
   "source": [
    "\n",
    "trainer.evaluate()"
   ]
  },
  {
   "cell_type": "code",
   "execution_count": 14,
   "metadata": {},
   "outputs": [
    {
     "data": {
      "text/plain": [
       "('./finetuned_gpt2_sentiment_neologism/tokenizer_config.json',\n",
       " './finetuned_gpt2_sentiment_neologism/special_tokens_map.json',\n",
       " './finetuned_gpt2_sentiment_neologism/vocab.json',\n",
       " './finetuned_gpt2_sentiment_neologism/merges.txt',\n",
       " './finetuned_gpt2_sentiment_neologism/added_tokens.json')"
      ]
     },
     "execution_count": 14,
     "metadata": {},
     "output_type": "execute_result"
    }
   ],
   "source": [
    "\n",
    "model.save_pretrained('./finetuned_gpt2_sentiment_neologism')\n",
    "tokenizer.save_pretrained('./finetuned_gpt2_sentiment_neologism')"
   ]
  },
  {
   "cell_type": "code",
   "execution_count": 15,
   "metadata": {},
   "outputs": [
    {
     "data": {
      "application/vnd.jupyter.widget-view+json": {
       "model_id": "e405824bd6d9483f87596c8a132e9d7f",
       "version_major": 2,
       "version_minor": 0
      },
      "text/plain": [
       "  0%|          | 0/219 [00:00<?, ?it/s]"
      ]
     },
     "metadata": {},
     "output_type": "display_data"
    },
    {
     "name": "stdout",
     "output_type": "stream",
     "text": [
      "Tweet Accuracy: 0.8359062321326473\n",
      "Tweet Precision: 0.8302756064771867\n",
      "Tweet Recall: 0.8147272489731407\n",
      "Tweet F1 Score: 0.8185201764313904\n",
      "Tweet Accuracy: 0.8359062321326473\n"
     ]
    },
    {
     "data": {
      "image/png": "[encoded data removed]",
      "text/plain": [
       "<Figure size 1000x700 with 2 Axes>"
      ]
     },
     "metadata": {},
     "output_type": "display_data"
    }
   ],
   "source": [
    "predictions = trainer.predict(tokenized_datasets['test'])\n",
    "predicted_labels = torch.argmax(torch.tensor(predictions.predictions), dim=1)\n",
    "from sklearn.metrics import accuracy_score, f1_score, precision_score, recall_score, confusion_matrix\n",
    "import seaborn as sns\n",
    "import matplotlib.pyplot as plt\n",
    "\n",
    "accuracy = accuracy_score(tokenized_datasets['test']['label'], predicted_labels)\n",
    "precision = precision_score(tokenized_datasets['test']['label'], predicted_labels, average='macro')\n",
    "recall = recall_score(tokenized_datasets['test']['label'], predicted_labels, average='macro')\n",
    "f1_score_ = f1_score(tokenized_datasets['test']['label'], predicted_labels, average='macro')\n",
    "\n",
    "print(f'Tweet Accuracy: {accuracy}')\n",
    "print(f'Tweet Precision: {precision}')\n",
    "print(f'Tweet Recall: {recall}')\n",
    "print(f'Tweet F1 Score: {f1_score_}')\n",
    "print(f'Tweet Accuracy: {accuracy}')\n",
    "\n",
    "conf_matrix = confusion_matrix(tokenized_datasets['test']['labels'], predicted_labels)\n",
    "\n",
    "plt.figure(figsize=(10, 7))\n",
    "sns.heatmap(conf_matrix, annot=True, fmt='d', cmap='Reds', xticklabels=['negative', 'neutral', 'positive'], yticklabels=['negative', 'neutral', 'positive'])\n",
    "plt.xlabel('Predicted')\n",
    "plt.ylabel('True')\n",
    "plt.title('Confusion Matrix')\n",
    "plt.show()"
   ]
  },
  {
   "cell_type": "code",
   "execution_count": 16,
   "metadata": {},
   "outputs": [
    {
     "data": {
      "application/vnd.jupyter.widget-view+json": {
       "model_id": "6673f7688a814f5baf706b559ec65ed8",
       "version_major": 2,
       "version_minor": 0
      },
      "text/plain": [
       "model.safetensors:   0%|          | 0.00/498M [00:00<?, ?B/s]"
      ]
     },
     "metadata": {},
     "output_type": "display_data"
    },
    {
     "data": {
      "text/plain": [
       "CommitInfo(commit_url='https://huggingface.co/srinathsk18/finetuned-gpt-2-sentiment-analysis-neologism/commit/614e84ad276415d38d236475e2ea8ff59a8a1008', commit_message='Upload GPT2ForSequenceClassification', commit_description='', oid='614e84ad276415d38d236475e2ea8ff59a8a1008', pr_url=None, repo_url=RepoUrl('https://huggingface.co/srinathsk18/finetuned-gpt-2-sentiment-analysis-neologism', endpoint='https://huggingface.co', repo_type='model', repo_id='srinathsk18/finetuned-gpt-2-sentiment-analysis-neologism'), pr_revision=None, pr_num=None)"
      ]
     },
     "execution_count": 16,
     "metadata": {},
     "output_type": "execute_result"
    }
   ],
   "source": [
    "model.push_to_hub('srinathsk18/finetuned-gpt-2-sentiment-analysis-neologism')"
   ]
  },
  {
   "cell_type": "code",
   "execution_count": 17,
   "metadata": {},
   "outputs": [
    {
     "name": "stderr",
     "output_type": "stream",
     "text": [
      "No files have been modified since last commit. Skipping to prevent empty commit.\n"
     ]
    },
    {
     "data": {
      "text/plain": [
       "CommitInfo(commit_url='https://huggingface.co/srinathsk18/finetuned-gpt-2-sentiment-analysis-neologism/commit/614e84ad276415d38d236475e2ea8ff59a8a1008', commit_message='Upload tokenizer', commit_description='', oid='614e84ad276415d38d236475e2ea8ff59a8a1008', pr_url=None, repo_url=RepoUrl('https://huggingface.co/srinathsk18/finetuned-gpt-2-sentiment-analysis-neologism', endpoint='https://huggingface.co', repo_type='model', repo_id='srinathsk18/finetuned-gpt-2-sentiment-analysis-neologism'), pr_revision=None, pr_num=None)"
      ]
     },
     "execution_count": 17,
     "metadata": {},
     "output_type": "execute_result"
    }
   ],
   "source": [
    "tokenizer.push_to_hub('srinathsk18/finetuned-gpt-2-sentiment-analysis-neologism')"
   ]
  },
  {
   "cell_type": "code",
   "execution_count": null,
   "metadata": {},
   "outputs": [],
   "source": [
    "reddit_tokenized_datasets = reddit_dataset.map(preprocess_function, batched=True)\n",
    "predictions = trainer.predict(reddit_tokenized_datasets['test'])\n",
    "predicted_labels = torch.argmax(torch.tensor(predictions.predictions), dim=1)\n",
    "\n",
    "accuracy = accuracy_score(reddit_tokenized_datasets['test']['label'], predicted_labels)\n",
    "precision = precision_score(reddit_tokenized_datasets['test']['label'], predicted_labels, average='macro')\n",
    "recall = recall_score(reddit_tokenized_datasets['test']['label'], predicted_labels, average='macro')\n",
    "f1_score_ = f1_score(reddit_tokenized_datasets['test']['label'], predicted_labels, average='macro')\n",
    "\n",
    "print(f'Reddit Accuracy: {accuracy}')\n",
    "print(f'Reddit Precision: {precision}')\n",
    "print(f'Reddit Recall: {recall}')\n",
    "print(f'Reddit F1 Score: {f1_score_}')\n",
    "print(f'Reddit Accuracy: {accuracy}')\n",
    "\n",
    "conf_matrix = confusion_matrix(tokenized_datasets['test']['labels'], predicted_labels)\n",
    "\n",
    "plt.figure(figsize=(10, 7))\n",
    "sns.heatmap(conf_matrix, annot=True, fmt='d', cmap='Reds', xticklabels=['negative', 'neutral', 'positive'], yticklabels=['negative', 'neutral', 'positive'])\n",
    "plt.xlabel('Predicted')\n",
    "plt.ylabel('True')\n",
    "plt.title('Confusion Matrix')\n",
    "plt.show()"
   ]
  },
  {
   "cell_type": "code",
   "execution_count": null,
   "metadata": {},
   "outputs": [],
   "source": [
    "\n",
    "from datasets import load_dataset, Dataset, DatasetDict\n",
    "from sklearn.model_selection import train_test_split\n",
    "import pandas as pd\n",
    "\n",
    "# Load the CSV file into a pandas DataFrame\n",
    "df = pd.read_csv('all_sampled_twitter.csv')\n",
    "\n",
    "# Split the DataFrame into train, validation, and test sets\n",
    "train_df, temp_df = train_test_split(df, test_size=0.4, random_state=42)\n",
    "val_df, test_df = train_test_split(temp_df, test_size=0.5, random_state=42)\n",
    "\n",
    "\n",
    "train_dataset = Dataset.from_pandas(train_df)\n",
    "val_dataset = Dataset.from_pandas(val_df)\n",
    "test_dataset = Dataset.from_pandas(test_df)\n",
    "\n",
    "# Create a DatasetDict\n",
    "dataset = DatasetDict({\n",
    "    'train': train_dataset,\n",
    "    'validation': val_dataset,\n",
    "    'test': test_dataset\n",
    "})\n",
    "tokenized_datasets = dataset.map(preprocess_function, batched=True)\n",
    "predictions = trainer.predict(tokenized_datasets['test'])\n",
    "predicted_labels = torch.argmax(torch.tensor(predictions.predictions), dim=1)\n",
    "\n",
    "accuracy = accuracy_score(tokenized_datasets['test']['label'], predicted_labels)\n",
    "precision = precision_score(tokenized_datasets['test']['label'], predicted_labels, average='macro')\n",
    "recall = recall_score(tokenized_datasets['test']['label'], predicted_labels, average='macro')\n",
    "f1_score_ = f1_score(tokenized_datasets['test']['label'], predicted_labels, average='macro')\n",
    "\n",
    "print(f'Tweet Accuracy: {accuracy}')\n",
    "print(f'Tweet Precision: {precision}')\n",
    "print(f'Tweet Recall: {recall}')\n",
    "print(f'Tweet F1 Score: {f1_score_}')\n",
    "print(f'Tweet Accuracy: {accuracy}')\n",
    "\n",
    "conf_matrix = confusion_matrix(tokenized_datasets['test']['labels'], predicted_labels)\n",
    "\n",
    "plt.figure(figsize=(10, 7))\n",
    "sns.heatmap(conf_matrix, annot=True, fmt='d', cmap='Blues', xticklabels=['negative', 'neutral', 'positive'], yticklabels=['negative', 'neutral', 'positive'])\n",
    "plt.xlabel('Predicted')\n",
    "plt.ylabel('True')\n",
    "plt.title('Confusion Matrix')\n",
    "plt.show()"
   ]
  }
 ],
 "metadata": {
  "kernelspec": {
   "display_name": "bda",
   "language": "python",
   "name": "python3"
  },
  "language_info": {
   "codemirror_mode": {
    "name": "ipython",
    "version": 3
   },
   "file_extension": ".py",
   "mimetype": "text/x-python",
   "name": "python",
   "nbconvert_exporter": "python",
   "pygments_lexer": "ipython3",
   "version": "3.12.7"
  }
 },
 "nbformat": 4,
 "nbformat_minor": 2
}
