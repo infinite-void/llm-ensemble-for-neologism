{
  "nbformat": 4,
  "nbformat_minor": 0,
  "metadata": {
    "colab": {
      "provenance": []
    },
    "kernelspec": {
      "name": "python3",
      "display_name": "Python 3"
    },
    "language_info": {
      "name": "python"
    }
  },
  "cells": [
    {
      "cell_type": "markdown",
      "source": [
        "# **Weighted Ensemble**  \n",
        "\n",
        "###### contributed by **Hima Varshini Parasa**"
      ],
      "metadata": {
        "id": "cJZmEdGxM90-"
      }
    },
    {
      "cell_type": "code",
      "source": [
        "import pandas as pd\n",
        "import numpy as np\n",
        "from sklearn.model_selection import train_test_split\n",
        "from sklearn.metrics import accuracy_score\n",
        "\n",
        "# Load the CSV file\n",
        "data = pd.read_csv('/content/prediction_labels.csv')\n",
        "\n",
        "# Define the columns for the model predictions\n",
        "model_columns = ['VADER', 'DISTILLBERT', 'ROBERTA', 'BertTweet', 'gpt2', 'FINBERT']\n",
        "\n",
        "# Split into features and target\n",
        "X = data[model_columns]  # Predictions from the 6 LLMs\n",
        "y = data['label']        # True sentiment\n",
        "\n",
        "# Split the data into training and test sets\n",
        "X_train, X_test, y_train, y_test = train_test_split(X, y, test_size=0.2, random_state=42)\n",
        "\n",
        "# Manually set weights for the predictions from the 6 LLMs\n",
        "# Ensure the weights sum to 1\n",
        "manual_weights = [0.15, 0.25, 0.25, 0.20, 0.10, 0.05]\n",
        "\n",
        "# Convert weights to numpy array for easier manipulation\n",
        "manual_weights = np.array(manual_weights)\n",
        "\n",
        "# Ensure weights sum to 1\n",
        "manual_weights = manual_weights / np.sum(manual_weights)\n",
        "\n",
        "# Print the manual weights\n",
        "print(\"Manual Weights:\", manual_weights)\n",
        "\n",
        "# Predict on the test set using the manually set weights\n",
        "weighted_predictions_test = np.average(X_test, axis=1, weights=manual_weights)\n",
        "weighted_predictions_test = np.round(weighted_predictions_test).astype(int)\n",
        "\n",
        "# Evaluate the ensemble model\n",
        "accuracy = accuracy_score(y_test, weighted_predictions_test)\n",
        "print(\"Ensemble Model Accuracy:\", accuracy)\n"
      ],
      "metadata": {
        "colab": {
          "base_uri": "https://localhost:8080/"
        },
        "id": "nPADfb-PDAMg",
        "outputId": "799128fa-0ba5-48df-9bb9-6a138ead994d"
      },
      "execution_count": 21,
      "outputs": [
        {
          "output_type": "stream",
          "name": "stdout",
          "text": [
            "Manual Weights: [0.15 0.25 0.25 0.2  0.1  0.05]\n",
            "Ensemble Model Accuracy: 0.8061749571183533\n"
          ]
        }
      ]
    },
    {
      "cell_type": "code",
      "source": [
        "# Install necessary libraries in Colab (if needed)\n",
        "!pip install scikit-learn pandas numpy matplotlib seaborn\n",
        "\n",
        "# Import required libraries\n",
        "import pandas as pd\n",
        "import numpy as np\n",
        "from sklearn.model_selection import train_test_split\n",
        "from sklearn.metrics import accuracy_score, classification_report, confusion_matrix\n",
        "import matplotlib.pyplot as plt\n",
        "import seaborn as sns\n",
        "\n",
        "# Load the CSV file\n",
        "data = pd.read_csv('/content/prediction_labels.csv')\n",
        "\n",
        "# Define the columns for the model predictions\n",
        "model_columns = ['VADER', 'DISTILLBERT', 'ROBERTA', 'BertTweet', 'gpt2', 'FINBERT']\n",
        "\n",
        "# Split into features and target\n",
        "X = data[model_columns]  # Predictions from the 6 LLMs\n",
        "y = data['label']        # True sentiment\n",
        "\n",
        "# Split the data into training and test sets\n",
        "X_train, X_test, y_train, y_test = train_test_split(X, y, test_size=0.2, random_state=42)\n",
        "\n",
        "# Manually set weights for the predictions from the 6 LLMs\n",
        "# Ensure the weights sum to 1\n",
        "manual_weights = [0.15, 0.25, 0.25, 0.20, 0.10, 0.05]\n",
        "\n",
        "# Convert weights to numpy array for easier manipulation\n",
        "manual_weights = np.array(manual_weights)\n",
        "\n",
        "# Ensure weights sum to 1\n",
        "manual_weights = manual_weights / np.sum(manual_weights)\n",
        "\n",
        "# Print the manual weights\n",
        "print(\"Manual Weights:\", manual_weights)\n",
        "\n",
        "# Predict on the test set using the manually set weights\n",
        "weighted_predictions_test = np.average(X_test, axis=1, weights=manual_weights)\n",
        "weighted_predictions_test = np.round(weighted_predictions_test).astype(int)\n",
        "\n",
        "# Evaluate the ensemble model\n",
        "accuracy = accuracy_score(y_test, weighted_predictions_test)\n",
        "print(\"Ensemble Model Accuracy:\", accuracy)\n",
        "\n",
        "# Classification report\n",
        "report = classification_report(y_test, weighted_predictions_test, output_dict=True)\n",
        "print(\"\\nClassification Report:\")\n",
        "print(classification_report(y_test, weighted_predictions_test))\n",
        "\n",
        "# Confusion matrix\n",
        "cm = confusion_matrix(y_test, weighted_predictions_test)\n",
        "print(\"\\nConfusion Matrix:\")\n",
        "print(cm)\n",
        "\n",
        "# Plot confusion matrix\n",
        "plt.figure(figsize=(10, 7))\n",
        "sns.heatmap(cm, annot=True, fmt='d', cmap='Blues', xticklabels=np.unique(y), yticklabels=np.unique(y))\n",
        "plt.xlabel('Predicted')\n",
        "plt.ylabel('Actual')\n",
        "plt.title('Confusion Matrix')\n",
        "plt.show()\n"
      ],
      "metadata": {
        "colab": {
          "base_uri": "https://localhost:8080/",
          "height": 1000
        },
        "id": "CVD7vnqWTkwN",
        "outputId": "14b08823-8b49-4790-a8ce-1d557795fa4e"
      },
      "execution_count": 23,
      "outputs": [
        {
          "output_type": "stream",
          "name": "stdout",
          "text": [
            "Requirement already satisfied: scikit-learn in /usr/local/lib/python3.10/dist-packages (1.5.2)\n",
            "Requirement already satisfied: pandas in /usr/local/lib/python3.10/dist-packages (2.2.2)\n",
            "Requirement already satisfied: numpy in /usr/local/lib/python3.10/dist-packages (1.26.4)\n",
            "Requirement already satisfied: matplotlib in /usr/local/lib/python3.10/dist-packages (3.8.0)\n",
            "Requirement already satisfied: seaborn in /usr/local/lib/python3.10/dist-packages (0.13.2)\n",
            "Requirement already satisfied: scipy>=1.6.0 in /usr/local/lib/python3.10/dist-packages (from scikit-learn) (1.13.1)\n",
            "Requirement already satisfied: joblib>=1.2.0 in /usr/local/lib/python3.10/dist-packages (from scikit-learn) (1.4.2)\n",
            "Requirement already satisfied: threadpoolctl>=3.1.0 in /usr/local/lib/python3.10/dist-packages (from scikit-learn) (3.5.0)\n",
            "Requirement already satisfied: python-dateutil>=2.8.2 in /usr/local/lib/python3.10/dist-packages (from pandas) (2.8.2)\n",
            "Requirement already satisfied: pytz>=2020.1 in /usr/local/lib/python3.10/dist-packages (from pandas) (2024.2)\n",
            "Requirement already satisfied: tzdata>=2022.7 in /usr/local/lib/python3.10/dist-packages (from pandas) (2024.2)\n",
            "Requirement already satisfied: contourpy>=1.0.1 in /usr/local/lib/python3.10/dist-packages (from matplotlib) (1.3.1)\n",
            "Requirement already satisfied: cycler>=0.10 in /usr/local/lib/python3.10/dist-packages (from matplotlib) (0.12.1)\n",
            "Requirement already satisfied: fonttools>=4.22.0 in /usr/local/lib/python3.10/dist-packages (from matplotlib) (4.55.0)\n",
            "Requirement already satisfied: kiwisolver>=1.0.1 in /usr/local/lib/python3.10/dist-packages (from matplotlib) (1.4.7)\n",
            "Requirement already satisfied: packaging>=20.0 in /usr/local/lib/python3.10/dist-packages (from matplotlib) (24.2)\n",
            "Requirement already satisfied: pillow>=6.2.0 in /usr/local/lib/python3.10/dist-packages (from matplotlib) (11.0.0)\n",
            "Requirement already satisfied: pyparsing>=2.3.1 in /usr/local/lib/python3.10/dist-packages (from matplotlib) (3.2.0)\n",
            "Requirement already satisfied: six>=1.5 in /usr/local/lib/python3.10/dist-packages (from python-dateutil>=2.8.2->pandas) (1.16.0)\n",
            "Manual Weights: [0.15 0.25 0.25 0.2  0.1  0.05]\n",
            "Ensemble Model Accuracy: 0.8061749571183533\n",
            "\n",
            "Classification Report:\n",
            "              precision    recall  f1-score   support\n",
            "\n",
            "           0       0.89      0.87      0.88       710\n",
            "           1       0.66      0.66      0.66       461\n",
            "           2       0.83      0.85      0.84       578\n",
            "\n",
            "    accuracy                           0.81      1749\n",
            "   macro avg       0.79      0.79      0.79      1749\n",
            "weighted avg       0.81      0.81      0.81      1749\n",
            "\n",
            "\n",
            "Confusion Matrix:\n",
            "[[616  83  11]\n",
            " [ 66 302  93]\n",
            " [ 14  72 492]]\n"
          ]
        },
        {
          "output_type": "display_data",
          "data": {
            "text/plain": [
              "<Figure size 1000x700 with 2 Axes>"
            ],
            "image/png": "[encoded data removed]"
          },
          "metadata": {}
        }
      ]
    },
    {
      "cell_type": "code",
      "source": [],
      "metadata": {
        "id": "Var6VarpI5Hs"
      },
      "execution_count": null,
      "outputs": []
    }
  ]
}