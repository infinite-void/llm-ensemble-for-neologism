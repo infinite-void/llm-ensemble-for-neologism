{
 "cells": [
  {
   "cell_type": "code",
   "execution_count": 19,
   "metadata": {},
   "outputs": [],
   "source": [
    "# Load the sentiment analysis dataset\n",
    "from datasets import load_dataset, Dataset, DatasetDict\n",
    "dataset = load_dataset(\"cardiffnlp/tweet_eval\", \"sentiment\")"
   ]
  },
  {
   "cell_type": "code",
   "execution_count": 20,
   "metadata": {},
   "outputs": [],
   "source": [
    "from transformers import AutoTokenizer\n",
    "\n",
    "# Load GPT-2 tokenizer\n",
    "tokenizer = AutoTokenizer.from_pretrained(\"gpt2\")\n",
    "tokenizer.pad_token = tokenizer.eos_token\n",
    "\n",
    "# Tokenize the data\n",
    "def preprocess_function(examples):\n",
    "    tokenized = tokenizer(\n",
    "        examples['text'],\n",
    "        truncation=True,\n",
    "        padding=\"max_length\",\n",
    "        max_length=128,\n",
    "        return_tensors=\"pt\"\n",
    "    )\n",
    "    tokenized[\"labels\"] = examples[\"label\"]  # Add labels to the tokenized dataset\n",
    "    return tokenized\n",
    "\n",
    "tokenized_datasets = dataset.map(preprocess_function, batched=True)"
   ]
  },
  {
   "cell_type": "code",
   "execution_count": 3,
   "metadata": {},
   "outputs": [
    {
     "data": {
      "text/plain": [
       "DatasetDict({\n",
       "    train: Dataset({\n",
       "        features: ['text', 'label', 'input_ids', 'attention_mask', 'labels'],\n",
       "        num_rows: 45615\n",
       "    })\n",
       "    test: Dataset({\n",
       "        features: ['text', 'label', 'input_ids', 'attention_mask', 'labels'],\n",
       "        num_rows: 12284\n",
       "    })\n",
       "    validation: Dataset({\n",
       "        features: ['text', 'label', 'input_ids', 'attention_mask', 'labels'],\n",
       "        num_rows: 2000\n",
       "    })\n",
       "})"
      ]
     },
     "execution_count": 3,
     "metadata": {},
     "output_type": "execute_result"
    }
   ],
   "source": [
    "tokenized_datasets"
   ]
  },
  {
   "cell_type": "code",
   "execution_count": 4,
   "metadata": {},
   "outputs": [
    {
     "name": "stderr",
     "output_type": "stream",
     "text": [
      "Some weights of GPT2ForSequenceClassification were not initialized from the model checkpoint at gpt2 and are newly initialized: ['score.weight']\n",
      "You should probably TRAIN this model on a down-stream task to be able to use it for predictions and inference.\n"
     ]
    },
    {
     "data": {
      "text/plain": [
       "GPT2ForSequenceClassification(\n",
       "  (transformer): GPT2Model(\n",
       "    (wte): Embedding(50257, 768)\n",
       "    (wpe): Embedding(1024, 768)\n",
       "    (drop): Dropout(p=0.1, inplace=False)\n",
       "    (h): ModuleList(\n",
       "      (0-11): 12 x GPT2Block(\n",
       "        (ln_1): LayerNorm((768,), eps=1e-05, elementwise_affine=True)\n",
       "        (attn): GPT2SdpaAttention(\n",
       "          (c_attn): Conv1D(nf=2304, nx=768)\n",
       "          (c_proj): Conv1D(nf=768, nx=768)\n",
       "          (attn_dropout): Dropout(p=0.1, inplace=False)\n",
       "          (resid_dropout): Dropout(p=0.1, inplace=False)\n",
       "        )\n",
       "        (ln_2): LayerNorm((768,), eps=1e-05, elementwise_affine=True)\n",
       "        (mlp): GPT2MLP(\n",
       "          (c_fc): Conv1D(nf=3072, nx=768)\n",
       "          (c_proj): Conv1D(nf=768, nx=3072)\n",
       "          (act): NewGELUActivation()\n",
       "          (dropout): Dropout(p=0.1, inplace=False)\n",
       "        )\n",
       "      )\n",
       "    )\n",
       "    (ln_f): LayerNorm((768,), eps=1e-05, elementwise_affine=True)\n",
       "  )\n",
       "  (score): Linear(in_features=768, out_features=3, bias=False)\n",
       ")"
      ]
     },
     "execution_count": 4,
     "metadata": {},
     "output_type": "execute_result"
    }
   ],
   "source": [
    "from transformers import AutoModelForSequenceClassification\n",
    "\n",
    "import torch\n",
    "\n",
    "# Set the device to MPS explicitly\n",
    "device = torch.device(\"mps\") if torch.backends.mps.is_available() else torch.device(\"cpu\")\n",
    "\n",
    "# Load GPT-2 with a classification head\n",
    "model = AutoModelForSequenceClassification.from_pretrained(\"gpt2\", num_labels=3) \n",
    "model.config.pad_token_id = tokenizer.pad_token_id\n",
    "model.to(device)\n"
   ]
  },
  {
   "cell_type": "code",
   "execution_count": 5,
   "metadata": {},
   "outputs": [
    {
     "name": "stderr",
     "output_type": "stream",
     "text": [
      "/Users/srinathsureshkumar/miniconda3/envs/bda/lib/python3.12/site-packages/peft/tuners/adalora/model.py:205: UserWarning: fan_in_fan_out is set to False but the target module is `Conv1D`. Setting fan_in_fan_out to True.\n",
      "  warnings.warn(\n"
     ]
    }
   ],
   "source": [
    "from peft import get_peft_model, AdaLoraConfig\n",
    "ada_lora_config = AdaLoraConfig(\n",
    "    task_type=\"SEQ_CLS\",\n",
    "    r=8,\n",
    "    lora_alpha=32,\n",
    "    target_modules=[\"c_attn\", \"c_proj\"],\n",
    "    lora_dropout=0.1,\n",
    "    bias=\"none\"\n",
    ")\n",
    "model = get_peft_model(model, ada_lora_config)"
   ]
  },
  {
   "cell_type": "code",
   "execution_count": 6,
   "metadata": {},
   "outputs": [
    {
     "name": "stderr",
     "output_type": "stream",
     "text": [
      "/Users/srinathsureshkumar/miniconda3/envs/bda/lib/python3.12/site-packages/transformers/training_args.py:1559: FutureWarning: `evaluation_strategy` is deprecated and will be removed in version 4.46 of 🤗 Transformers. Use `eval_strategy` instead\n",
      "  warnings.warn(\n",
      "/var/folders/_v/9p5rkkbj79d0bmthxllw7rqm0000gn/T/ipykernel_65459/3537546471.py:20: FutureWarning: `tokenizer` is deprecated and will be removed in version 5.0.0 for `Trainer.__init__`. Use `processing_class` instead.\n",
      "  trainer = Trainer(\n"
     ]
    }
   ],
   "source": [
    "from transformers import Trainer, TrainingArguments, DataCollatorWithPadding\n",
    "\n",
    "data_collator = DataCollatorWithPadding(tokenizer=tokenizer, padding=True)\n",
    "\n",
    "training_args = TrainingArguments(\n",
    "    output_dir=\"./results\",\n",
    "    evaluation_strategy=\"epoch\",  # Evaluate the model at the end of each epoch\n",
    "    save_strategy=\"epoch\",  # Save the model at the end of each epoch (to match evaluation strategy)\n",
    "    learning_rate=5e-5,\n",
    "    per_device_train_batch_size=8,  # Adjust batch size if necessary\n",
    "    per_device_eval_batch_size=32,\n",
    "    num_train_epochs=3,\n",
    "    weight_decay=0.01,\n",
    "    warmup_steps=500,\n",
    "    logging_dir=\"./logs\",\n",
    "    save_total_limit=2,\n",
    "    gradient_accumulation_steps=2\n",
    ")\n",
    "\n",
    "trainer = Trainer(\n",
    "    model=model,\n",
    "    args=training_args,\n",
    "    train_dataset=tokenized_datasets[\"train\"],\n",
    "    eval_dataset=tokenized_datasets[\"validation\"],\n",
    "    tokenizer=tokenizer,\n",
    "    data_collator=data_collator\n",
    ")"
   ]
  },
  {
   "cell_type": "code",
   "execution_count": 7,
   "metadata": {},
   "outputs": [
    {
     "data": {
      "application/vnd.jupyter.widget-view+json": {
       "model_id": "21ed0d107ad045b3b88de9600f5107ef",
       "version_major": 2,
       "version_minor": 0
      },
      "text/plain": [
       "  0%|          | 0/384 [00:00<?, ?it/s]"
      ]
     },
     "metadata": {},
     "output_type": "display_data"
    }
   ],
   "source": [
    "predictions = trainer.predict(tokenized_datasets['test'])\n",
    "predicted_labels = torch.argmax(torch.tensor(predictions.predictions), dim=1)"
   ]
  },
  {
   "cell_type": "code",
   "execution_count": 8,
   "metadata": {},
   "outputs": [
    {
     "name": "stdout",
     "output_type": "stream",
     "text": [
      "Tweet Accuracy: 0.4803809833930316\n",
      "Tweet Precision: 0.28009475437590453\n",
      "Tweet Recall: 0.3319848781813822\n",
      "Tweet F1 Score: 0.21886813306947397\n",
      "Tweet Accuracy: 0.4803809833930316\n"
     ]
    },
    {
     "data": {
      "image/png": "[encoded data removed]",
      "text/plain": [
       "<Figure size 1000x700 with 2 Axes>"
      ]
     },
     "metadata": {},
     "output_type": "display_data"
    }
   ],
   "source": [
    "from sklearn.metrics import accuracy_score, f1_score, precision_score, recall_score, confusion_matrix\n",
    "from sklearn.metrics import accuracy_score, f1_score, precision_score, recall_score, confusion_matrix\n",
    "import seaborn as sns\n",
    "import matplotlib.pyplot as plt\n",
    "\n",
    "accuracy = accuracy_score(tokenized_datasets['test']['label'], predicted_labels)\n",
    "precision = precision_score(tokenized_datasets['test']['label'], predicted_labels, average='macro')\n",
    "recall = recall_score(tokenized_datasets['test']['label'], predicted_labels, average='macro')\n",
    "f1_score_ = f1_score(tokenized_datasets['test']['label'], predicted_labels, average='macro')\n",
    "\n",
    "print(f'Tweet Accuracy: {accuracy}')\n",
    "print(f'Tweet Precision: {precision}')\n",
    "print(f'Tweet Recall: {recall}')\n",
    "print(f'Tweet F1 Score: {f1_score_}')\n",
    "print(f'Tweet Accuracy: {accuracy}')\n",
    "\n",
    "conf_matrix = confusion_matrix(tokenized_datasets['test']['labels'], predicted_labels)\n",
    "\n",
    "plt.figure(figsize=(10, 7))\n",
    "sns.heatmap(conf_matrix, annot=True, fmt='d', cmap='Blues', xticklabels=['negative', 'neutral', 'positive'], yticklabels=['negative', 'neutral', 'positive'])\n",
    "plt.xlabel('Predicted')\n",
    "plt.ylabel('True')\n",
    "plt.title('Confusion Matrix')\n",
    "plt.show()"
   ]
  },
  {
   "cell_type": "code",
   "execution_count": 9,
   "metadata": {},
   "outputs": [
    {
     "data": {
      "application/vnd.jupyter.widget-view+json": {
       "model_id": "5f1da7b98c684652b5dfe028441fcfe5",
       "version_major": 2,
       "version_minor": 0
      },
      "text/plain": [
       "  0%|          | 0/8553 [00:00<?, ?it/s]"
      ]
     },
     "metadata": {},
     "output_type": "display_data"
    },
    {
     "name": "stdout",
     "output_type": "stream",
     "text": [
      "{'loss': 5.2203, 'grad_norm': 25.406179428100586, 'learning_rate': 5e-05, 'epoch': 0.18}\n",
      "{'loss': 2.0936, 'grad_norm': 59.641170501708984, 'learning_rate': 4.689556686948963e-05, 'epoch': 0.35}\n",
      "{'loss': 1.9561, 'grad_norm': 31.31197738647461, 'learning_rate': 4.379113373897926e-05, 'epoch': 0.53}\n",
      "{'loss': 1.8738, 'grad_norm': 27.292633056640625, 'learning_rate': 4.06867006084689e-05, 'epoch': 0.7}\n",
      "{'loss': 1.7816, 'grad_norm': 147.713134765625, 'learning_rate': 3.7582267477958524e-05, 'epoch': 0.88}\n"
     ]
    },
    {
     "data": {
      "application/vnd.jupyter.widget-view+json": {
       "model_id": "e4105e109c00473094c6880e089dfefb",
       "version_major": 2,
       "version_minor": 0
      },
      "text/plain": [
       "  0%|          | 0/63 [00:00<?, ?it/s]"
      ]
     },
     "metadata": {},
     "output_type": "display_data"
    },
    {
     "name": "stdout",
     "output_type": "stream",
     "text": [
      "{'eval_loss': 0.8609729409217834, 'eval_model_preparation_time': 0.002, 'eval_runtime': 24.563, 'eval_samples_per_second': 81.423, 'eval_steps_per_second': 2.565, 'epoch': 1.0}\n",
      "{'loss': 1.7323, 'grad_norm': 140.3459930419922, 'learning_rate': 3.4477834347448155e-05, 'epoch': 1.05}\n",
      "{'loss': 1.6664, 'grad_norm': 57.88718032836914, 'learning_rate': 3.1373401216937785e-05, 'epoch': 1.23}\n",
      "{'loss': 1.5958, 'grad_norm': 80.60307312011719, 'learning_rate': 2.8268968086427423e-05, 'epoch': 1.4}\n",
      "{'loss': 1.5152, 'grad_norm': 50.65568923950195, 'learning_rate': 2.5164534955917053e-05, 'epoch': 1.58}\n",
      "{'loss': 1.4771, 'grad_norm': 117.50015258789062, 'learning_rate': 2.206010182540668e-05, 'epoch': 1.75}\n",
      "{'loss': 1.5001, 'grad_norm': 125.37301635742188, 'learning_rate': 1.8955668694896314e-05, 'epoch': 1.93}\n"
     ]
    },
    {
     "data": {
      "application/vnd.jupyter.widget-view+json": {
       "model_id": "9bc65e38540046f09b468fca7794e57e",
       "version_major": 2,
       "version_minor": 0
      },
      "text/plain": [
       "  0%|          | 0/63 [00:00<?, ?it/s]"
      ]
     },
     "metadata": {},
     "output_type": "display_data"
    },
    {
     "name": "stdout",
     "output_type": "stream",
     "text": [
      "{'eval_loss': 0.7286390662193298, 'eval_model_preparation_time': 0.002, 'eval_runtime': 25.2857, 'eval_samples_per_second': 79.096, 'eval_steps_per_second': 2.492, 'epoch': 2.0}\n",
      "{'loss': 1.4836, 'grad_norm': 25.9930419921875, 'learning_rate': 1.5851235564385944e-05, 'epoch': 2.1}\n",
      "{'loss': 1.465, 'grad_norm': 80.6674575805664, 'learning_rate': 1.2746802433875573e-05, 'epoch': 2.28}\n",
      "{'loss': 1.4607, 'grad_norm': 45.155765533447266, 'learning_rate': 9.642369303365207e-06, 'epoch': 2.46}\n",
      "{'loss': 1.4162, 'grad_norm': 97.15199279785156, 'learning_rate': 6.5379361728548376e-06, 'epoch': 2.63}\n",
      "{'loss': 1.4414, 'grad_norm': 42.434757232666016, 'learning_rate': 3.433503042344468e-06, 'epoch': 2.81}\n",
      "{'loss': 1.4332, 'grad_norm': 27.10915184020996, 'learning_rate': 3.290699118340991e-07, 'epoch': 2.98}\n"
     ]
    },
    {
     "data": {
      "application/vnd.jupyter.widget-view+json": {
       "model_id": "b61888b4dc1648e5a97a649c6c4daffe",
       "version_major": 2,
       "version_minor": 0
      },
      "text/plain": [
       "  0%|          | 0/63 [00:00<?, ?it/s]"
      ]
     },
     "metadata": {},
     "output_type": "display_data"
    },
    {
     "name": "stdout",
     "output_type": "stream",
     "text": [
      "{'eval_loss': 0.7134867906570435, 'eval_model_preparation_time': 0.002, 'eval_runtime': 24.3051, 'eval_samples_per_second': 82.287, 'eval_steps_per_second': 2.592, 'epoch': 3.0}\n",
      "{'train_runtime': 4817.006, 'train_samples_per_second': 28.409, 'train_steps_per_second': 1.776, 'train_loss': 1.827944452826996, 'epoch': 3.0}\n"
     ]
    },
    {
     "data": {
      "text/plain": [
       "TrainOutput(global_step=8553, training_loss=1.827944452826996, metrics={'train_runtime': 4817.006, 'train_samples_per_second': 28.409, 'train_steps_per_second': 1.776, 'total_flos': 9067512214932480.0, 'train_loss': 1.827944452826996, 'epoch': 3.0})"
      ]
     },
     "execution_count": 9,
     "metadata": {},
     "output_type": "execute_result"
    }
   ],
   "source": [
    "trainer.train()"
   ]
  },
  {
   "cell_type": "code",
   "execution_count": 18,
   "metadata": {},
   "outputs": [
    {
     "data": {
      "text/plain": [
       "('./ada-lora-sentiment-gpt2.2/tokenizer_config.json',\n",
       " './ada-lora-sentiment-gpt2.2/special_tokens_map.json',\n",
       " './ada-lora-sentiment-gpt2.2/vocab.json',\n",
       " './ada-lora-sentiment-gpt2.2/merges.txt',\n",
       " './ada-lora-sentiment-gpt2.2/added_tokens.json',\n",
       " './ada-lora-sentiment-gpt2.2/tokenizer.json')"
      ]
     },
     "execution_count": 18,
     "metadata": {},
     "output_type": "execute_result"
    }
   ],
   "source": [
    "\n",
    "\n",
    "# Save the fine-tuned model\n",
    "model.save_pretrained(\"./ada-lora-sentiment-gpt2.2\")\n",
    "tokenizer.save_pretrained(\"./ada-lora-sentiment-gpt2.2\")"
   ]
  },
  {
   "cell_type": "code",
   "execution_count": 21,
   "metadata": {},
   "outputs": [
    {
     "data": {
      "application/vnd.jupyter.widget-view+json": {
       "model_id": "cf1a95dd723d423d83642f60b59242fe",
       "version_major": 2,
       "version_minor": 0
      },
      "text/plain": [
       "  0%|          | 0/384 [00:00<?, ?it/s]"
      ]
     },
     "metadata": {},
     "output_type": "display_data"
    },
    {
     "name": "stdout",
     "output_type": "stream",
     "text": [
      "Tweet Accuracy: 0.6678606317160534\n",
      "Tweet Precision: 0.6582116348554389\n",
      "Tweet Recall: 0.6728746125228486\n",
      "Tweet F1 Score: 0.6644129716592913\n",
      "Tweet Accuracy: 0.6678606317160534\n"
     ]
    },
    {
     "data": {
      "image/png": "[encoded data removed]",
      "text/plain": [
       "<Figure size 1000x700 with 2 Axes>"
      ]
     },
     "metadata": {},
     "output_type": "display_data"
    }
   ],
   "source": [
    "predictions = trainer.predict(tokenized_datasets['test'])\n",
    "predicted_labels = torch.argmax(torch.tensor(predictions.predictions), dim=1)\n",
    "\n",
    "accuracy = accuracy_score(tokenized_datasets['test']['label'], predicted_labels)\n",
    "precision = precision_score(tokenized_datasets['test']['label'], predicted_labels, average='macro')\n",
    "recall = recall_score(tokenized_datasets['test']['label'], predicted_labels, average='macro')\n",
    "f1_score_ = f1_score(tokenized_datasets['test']['label'], predicted_labels, average='macro')\n",
    "\n",
    "print(f'Tweet Accuracy: {accuracy}')\n",
    "print(f'Tweet Precision: {precision}')\n",
    "print(f'Tweet Recall: {recall}')\n",
    "print(f'Tweet F1 Score: {f1_score_}')\n",
    "print(f'Tweet Accuracy: {accuracy}')\n",
    "\n",
    "conf_matrix = confusion_matrix(tokenized_datasets['test']['labels'], predicted_labels)\n",
    "\n",
    "plt.figure(figsize=(10, 7))\n",
    "sns.heatmap(conf_matrix, annot=True, fmt='d', cmap='Blues', xticklabels=['negative', 'neutral', 'positive'], yticklabels=['negative', 'neutral', 'positive'])\n",
    "plt.xlabel('Predicted')\n",
    "plt.ylabel('True')\n",
    "plt.title('Confusion Matrix')\n",
    "plt.show()"
   ]
  },
  {
   "cell_type": "code",
   "execution_count": null,
   "metadata": {},
   "outputs": [],
   "source": []
  },
  {
   "cell_type": "code",
   "execution_count": null,
   "metadata": {},
   "outputs": [],
   "source": []
  },
  {
   "cell_type": "code",
   "execution_count": null,
   "metadata": {},
   "outputs": [],
   "source": [
    "dataset = load_dataset(\"cardiffnlp/super_tweeteval\", \"tweet_sentiment\")\n",
    "label_mapping = {0: 0, 1: 0, 2: 1, 3: 2, 4: 2}  \n",
    "\n",
    "def replace_labels(examples, label_mapping):\n",
    "    examples['label'] = [label_mapping[label] for label in examples['gold_label']]\n",
    "    return examples\n",
    "\n",
    "# Replace labels in the dataset using the mapping\n",
    "dataset = dataset.map(lambda examples: replace_labels(examples, label_mapping), batched=True)\n"
   ]
  },
  {
   "cell_type": "code",
   "execution_count": null,
   "metadata": {},
   "outputs": [],
   "source": [
    "\n",
    "tokenizer = AutoTokenizer.from_pretrained(\"./ada-sentiment-gpt2\")\n",
    "tokenizer.pad_token = tokenizer.eos_token\n",
    "\n",
    "\n",
    "def preprocess_function(examples):\n",
    "    tokenized = tokenizer(\n",
    "        examples['text'],\n",
    "        truncation=True,\n",
    "        padding=\"max_length\",\n",
    "        max_length=128\n",
    "    )\n",
    "    tokenized[\"labels\"] = examples[\"label\"]  \n",
    "    return tokenized\n",
    "\n",
    "tokenized_datasets = dataset.map(preprocess_function, batched=True)\n",
    "reddit_tokenized_datasets = reddit_dataset.map(preprocess_function, batched=True)"
   ]
  },
  {
   "cell_type": "code",
   "execution_count": null,
   "metadata": {},
   "outputs": [],
   "source": [
    "model = AutoModelForSequenceClassification.from_pretrained(\"./sentiment-gpt2\", num_labels=3) \n",
    "model.config.pad_token_id = tokenizer.pad_token_id\n",
    "model.to(device)"
   ]
  },
  {
   "cell_type": "code",
   "execution_count": null,
   "metadata": {},
   "outputs": [],
   "source": [
    "from peft import get_peft_model, AdaLoraConfig\n",
    "ada_lora_config = LoraConfig(\n",
    "    task_type=\"SEQ_CLS\",\n",
    "    r=8,\n",
    "    lora_alpha=32,\n",
    "    target_modules=[\"c_attn\", \"c_proj\"],\n",
    "    lora_dropout=0.1,\n",
    "    bias=\"none\"\n",
    ")\n",
    "model = get_peft_model(model, ada_lora_config)"
   ]
  },
  {
   "cell_type": "code",
   "execution_count": null,
   "metadata": {},
   "outputs": [],
   "source": [
    "data_collator = DataCollatorWithPadding(tokenizer=tokenizer, padding=True)\n",
    "\n",
    "training_args = TrainingArguments(\n",
    "    output_dir=\"./results\",\n",
    "    evaluation_strategy=\"epoch\",  # Evaluate the model at the end of each epoch\n",
    "    save_strategy=\"epoch\",  # Save the model at the end of each epoch (to match evaluation strategy)\n",
    "    learning_rate=5e-5,\n",
    "    per_device_train_batch_size=8,  # Adjust batch size if necessary\n",
    "    per_device_eval_batch_size=32,\n",
    "    num_train_epochs=3,\n",
    "    weight_decay=0.01,\n",
    "    warmup_steps=500,\n",
    "    logging_dir=\"./logs\",\n",
    "    save_total_limit=2,\n",
    "    gradient_accumulation_steps=2\n",
    ")\n",
    "\n",
    "trainer = Trainer(\n",
    "    model=model,\n",
    "    args=training_args,\n",
    "    train_dataset=tokenized_datasets[\"train\"],\n",
    "    eval_dataset=tokenized_datasets[\"validation\"],\n",
    "    tokenizer=tokenizer,\n",
    "    data_collator=data_collator\n",
    ")"
   ]
  },
  {
   "cell_type": "code",
   "execution_count": null,
   "metadata": {},
   "outputs": [],
   "source": [
    "trainer.train()"
   ]
  },
  {
   "cell_type": "code",
   "execution_count": null,
   "metadata": {},
   "outputs": [],
   "source": [
    "# Evaluate the model\n",
    "results = trainer.evaluate(tokenized_datasets[\"test\"])\n",
    "print(results)\n",
    "\n",
    "# Save the fine-tuned model\n",
    "model.save_pretrained(\"./ada-lora-sentiment-gpt2-2\")\n",
    "tokenizer.save_pretrained(\"./ada-lora-sentiment-gpt2-2\")"
   ]
  },
  {
   "cell_type": "code",
   "execution_count": null,
   "metadata": {},
   "outputs": [],
   "source": [
    "predictions = trainer.predict(tokenized_datasets['test'])\n",
    "predicted_labels = torch.argmax(torch.tensor(predictions.predictions), dim=1)\n",
    "\n",
    "accuracy = accuracy_score(tokenized_datasets['test']['label'], predicted_labels)\n",
    "precision = precision_score(tokenized_datasets['test']['label'], predicted_labels, average='macro')\n",
    "recall = recall_score(tokenized_datasets['test']['label'], predicted_labels, average='macro')\n",
    "f1_score_ = f1_score(tokenized_datasets['test']['label'], predicted_labels, average='macro')\n",
    "\n",
    "print(f'Tweet Accuracy: {accuracy}')\n",
    "print(f'Tweet Precision: {precision}')\n",
    "print(f'Tweet Recall: {recall}')\n",
    "print(f'Tweet F1 Score: {f1_score_}')\n",
    "print(f'Tweet Accuracy: {accuracy}')\n",
    "\n",
    "conf_matrix = confusion_matrix(tokenized_datasets['test']['labels'], predicted_labels)\n",
    "\n",
    "plt.figure(figsize=(10, 7))\n",
    "sns.heatmap(conf_matrix, annot=True, fmt='d', cmap='Blues', xticklabels=['negative', 'neutral', 'positive'], yticklabels=['negative', 'neutral', 'positive'])\n",
    "plt.xlabel('Predicted')\n",
    "plt.ylabel('True')\n",
    "plt.title('Confusion Matrix')\n",
    "plt.show()"
   ]
  },
  {
   "cell_type": "code",
   "execution_count": 15,
   "metadata": {},
   "outputs": [
    {
     "data": {
      "application/vnd.jupyter.widget-view+json": {
       "model_id": "7df74c49945843f68da12111e5a20625",
       "version_major": 2,
       "version_minor": 0
      },
      "text/plain": [
       "Map:   0%|          | 0/5246 [00:00<?, ? examples/s]"
      ]
     },
     "metadata": {},
     "output_type": "display_data"
    },
    {
     "data": {
      "application/vnd.jupyter.widget-view+json": {
       "model_id": "85344dc3879d482abffaa51630a3c465",
       "version_major": 2,
       "version_minor": 0
      },
      "text/plain": [
       "Map:   0%|          | 0/1749 [00:00<?, ? examples/s]"
      ]
     },
     "metadata": {},
     "output_type": "display_data"
    },
    {
     "data": {
      "application/vnd.jupyter.widget-view+json": {
       "model_id": "8984297047b446018309ddeabd91c8e5",
       "version_major": 2,
       "version_minor": 0
      },
      "text/plain": [
       "Map:   0%|          | 0/1749 [00:00<?, ? examples/s]"
      ]
     },
     "metadata": {},
     "output_type": "display_data"
    },
    {
     "name": "stdout",
     "output_type": "stream",
     "text": [
      "Tweet Accuracy: 0.544882790165809\n",
      "Tweet Precision: 0.6280097953333125\n",
      "Tweet Recall: 0.5631667415501194\n",
      "Tweet F1 Score: 0.5532604761528993\n",
      "Tweet Accuracy: 0.544882790165809\n"
     ]
    },
    {
     "data": {
      "image/png": "[encoded data removed]",
      "text/plain": [
       "<Figure size 1000x700 with 2 Axes>"
      ]
     },
     "metadata": {},
     "output_type": "display_data"
    }
   ],
   "source": [
    "\n",
    "\n",
    "\n",
    "from datasets import load_dataset, Dataset, DatasetDict\n",
    "from sklearn.model_selection import train_test_split\n",
    "import pandas as pd\n",
    "\n",
    "# Load the CSV file into a pandas DataFrame\n",
    "df = pd.read_csv('all_sampled_twitter.csv')\n",
    "\n",
    "# Split the DataFrame into train, validation, and test sets\n",
    "train_df, temp_df = train_test_split(df, test_size=0.4, random_state=42)\n",
    "val_df, test_df = train_test_split(temp_df, test_size=0.5, random_state=42)\n",
    "\n",
    "\n",
    "train_dataset = Dataset.from_pandas(train_df)\n",
    "val_dataset = Dataset.from_pandas(val_df)\n",
    "test_dataset = Dataset.from_pandas(test_df)\n",
    "\n",
    "# Create a DatasetDict\n",
    "dataset = DatasetDict({\n",
    "    'train': train_dataset,\n",
    "    'validation': val_dataset,\n",
    "    'test': test_dataset\n",
    "})\n",
    "tokenized_datasets = dataset.map(preprocess_function, batched=True)\n",
    "predictions = trainer.predict(tokenized_datasets['test'])\n",
    "predicted_labels = torch.argmax(torch.tensor(predictions.predictions), dim=1)\n",
    "\n",
    "accuracy = accuracy_score(tokenized_datasets['test']['label'], predicted_labels)\n",
    "precision = precision_score(tokenized_datasets['test']['label'], predicted_labels, average='macro')\n",
    "recall = recall_score(tokenized_datasets['test']['label'], predicted_labels, average='macro')\n",
    "f1_score_ = f1_score(tokenized_datasets['test']['label'], predicted_labels, average='macro')\n",
    "\n",
    "print(f'Tweet Accuracy: {accuracy}')\n",
    "print(f'Tweet Precision: {precision}')\n",
    "print(f'Tweet Recall: {recall}')\n",
    "print(f'Tweet F1 Score: {f1_score_}')\n",
    "print(f'Tweet Accuracy: {accuracy}')\n",
    "\n",
    "conf_matrix = confusion_matrix(tokenized_datasets['test']['labels'], predicted_labels)\n",
    "\n",
    "plt.figure(figsize=(10, 7))\n",
    "sns.heatmap(conf_matrix, annot=True, fmt='d', cmap='Blues', xticklabels=['negative', 'neutral', 'positive'], yticklabels=['negative', 'neutral', 'positive'])\n",
    "plt.xlabel('Predicted')\n",
    "plt.ylabel('True')\n",
    "plt.title('Confusion Matrix')\n",
    "plt.show()"
   ]
  },
  {
   "cell_type": "code",
   "execution_count": null,
   "metadata": {},
   "outputs": [],
   "source": []
  }
 ],
 "metadata": {
  "kernelspec": {
   "display_name": "bda",
   "language": "python",
   "name": "python3"
  },
  "language_info": {
   "codemirror_mode": {
    "name": "ipython",
    "version": 3
   },
   "file_extension": ".py",
   "mimetype": "text/x-python",
   "name": "python",
   "nbconvert_exporter": "python",
   "pygments_lexer": "ipython3",
   "version": "3.12.7"
  }
 },
 "nbformat": 4,
 "nbformat_minor": 2
}
